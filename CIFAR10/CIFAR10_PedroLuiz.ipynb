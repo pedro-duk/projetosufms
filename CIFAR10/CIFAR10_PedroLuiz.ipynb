{
  "nbformat": 4,
  "nbformat_minor": 0,
  "metadata": {
    "colab": {
      "name": "CIFAR10_PedroLuiz.ipynb",
      "provenance": [],
      "collapsed_sections": []
    },
    "kernelspec": {
      "name": "python3",
      "display_name": "Python 3"
    },
    "widgets": {
      "application/vnd.jupyter.widget-state+json": {
        "9a0a109e7fcf45ceb6e701ea4910f587": {
          "model_module": "@jupyter-widgets/controls",
          "model_name": "VBoxModel",
          "model_module_version": "1.5.0",
          "state": {
            "_dom_classes": [
              "widget-interact"
            ],
            "_model_module": "@jupyter-widgets/controls",
            "_model_module_version": "1.5.0",
            "_model_name": "VBoxModel",
            "_view_count": null,
            "_view_module": "@jupyter-widgets/controls",
            "_view_module_version": "1.5.0",
            "_view_name": "VBoxView",
            "box_style": "",
            "children": [
              "IPY_MODEL_26f035083f4e47b28bdb0088887578bc",
              "IPY_MODEL_6e1e1de7e3d44b1a8c259a391e4648da"
            ],
            "layout": "IPY_MODEL_ace331bf13a24a4b9f02c3c0e0c498b5"
          }
        },
        "26f035083f4e47b28bdb0088887578bc": {
          "model_module": "@jupyter-widgets/controls",
          "model_name": "IntSliderModel",
          "model_module_version": "1.5.0",
          "state": {
            "_dom_classes": [],
            "_model_module": "@jupyter-widgets/controls",
            "_model_module_version": "1.5.0",
            "_model_name": "IntSliderModel",
            "_view_count": null,
            "_view_module": "@jupyter-widgets/controls",
            "_view_module_version": "1.5.0",
            "_view_name": "IntSliderView",
            "continuous_update": true,
            "description": "idx_ex",
            "description_tooltip": null,
            "disabled": false,
            "layout": "IPY_MODEL_226070ef1fd8450ead91cdbb10c8e572",
            "max": 2000,
            "min": 0,
            "orientation": "horizontal",
            "readout": true,
            "readout_format": "d",
            "step": 1,
            "style": "IPY_MODEL_ab6147d562f143cf9b044095c8103d8d",
            "value": 0
          }
        },
        "6e1e1de7e3d44b1a8c259a391e4648da": {
          "model_module": "@jupyter-widgets/output",
          "model_name": "OutputModel",
          "model_module_version": "1.0.0",
          "state": {
            "_dom_classes": [],
            "_model_module": "@jupyter-widgets/output",
            "_model_module_version": "1.0.0",
            "_model_name": "OutputModel",
            "_view_count": null,
            "_view_module": "@jupyter-widgets/output",
            "_view_module_version": "1.0.0",
            "_view_name": "OutputView",
            "layout": "IPY_MODEL_f3a3ff61e3ee4859ba018adf3c3f344b",
            "msg_id": "",
            "outputs": [
              {
                "output_type": "display_data",
                "data": {
                  "text/plain": "<Figure size 144x144 with 1 Axes>",
                  "image/png": "iVBORw0KGgoAAAANSUhEUgAAAHsAAACLCAYAAABBVeZmAAAABHNCSVQICAgIfAhkiAAAAAlwSFlzAAALEgAACxIB0t1+/AAAADh0RVh0U29mdHdhcmUAbWF0cGxvdGxpYiB2ZXJzaW9uMy4yLjIsIGh0dHA6Ly9tYXRwbG90bGliLm9yZy+WH4yJAAAPI0lEQVR4nO1dW4xW1RldH8NFRocBGREZYFAhIqBitUESJyGpCZWYatLyomli6oM+1JrQJraNtLbpLW1M+1Jj0qYlxvRB09RSWxLTlEpbW3sJtYaqTLnMIBdlBhhmALnuPpzDYe01cza/g/kx7G8lhP3/+/z77HO+OWvt79vf3sdCCHDkgXEXuwOO5sGNnRHc2BnBjZ0R3NgZwY2dET5SxjazJ83suYvdj9FgZpPN7DdmNmhmL1zs/owFTTe2md1vZv80s2Ez22tmG8zszmb3Ywz4DICrAUwPIay+2J0ZC5pqbDNbA+BHAL6D4sbNBfA0gHub2Y8xogvA1hDCqdEqzWx8k/vzwRFCaMo/AO0AhgGsThzzJIDn6PMLAPYBGASwCcBiqlsF4L8AhgDsBvCl8vsOAC8BOATgAIA/ARhX1s0C8EsA+wHsAPCFBvv+DQAnAJwsr+EhAA8C+AuAHwIYAPCt8hqfLdvvBfAEnbsFwFMA+stzfx5AADC+aTZoorE/CeBU6uJGMfbnALQBmISCEf5NdXsBdJflaQA+Vpa/C+AZABPKf90ADAWL/QvA1wBMBHAdgO0AVpa/uxPAoQ/QtwfL63kUwHgAk0tD/7rs8zwAWwE8VB7/SPnHObvs7+8vZWM/AGDfeY6JbqjUTS1vTnv5uQ/AwwCmyHHfLG/4fPl+GYA++e4rAH7eYP9HM3YffW4pn/5F9N3DAP5Ylv8A4GGqu6vZxm6mZg8A6GhU28ysxcy+Z2bbzOwwgJ1lVUf5/6dRUHmvmb1iZsvL738A4H8AXjaz7Wb25fL7LgCzzOzQ2X8Avopi7DBW7KJyBwom6aXvegF0luVZcjyXm4JmGvuvAI4DuK/B4+9HMXC7C4UWziu/NwAIIfwjhHAvgBkAXgTwfPn9UAjhiyGE6wB8CsAaM/sEipu7I4Qwlf61hRBWXcA18ZRhPwpN76Lv5qIYTwCF7MymujkXcN4xoWnGDiEMotDLH5vZfWbWamYTzOxuM/v+KD9pQ/HHMQCgFcUIHgBgZhPN7AEzaw8hnARwGMCZsu4eM5tvZoZiYHe6rPs7gCEze7z0mVvMbImZffxDur7TKP7gvm1mbWbWBWANgLNxg+cBPGZmnWY2FcDjH8Z5Pwia6nqFEJ5CcQOeQDFi3YViVPriKIc/i4IGd6MY2PxN6j8LYGdJ8Y+gGBMAwAIUg59hFGzydAhhY2mMewAsRTEa7gfwUxSsATPrNrPhC7zERwEcQTHw+zOAXwD4WVn3EwAvA/gPgM0AfodigHf6As/ZMKwcLDiaDDO7G8AzIYSu8x78IeEjFS69lFFKxyozG29mnQC+DuBXTe2DP9nNgZm1AngFwEIAxwD8FsBjIYTDTeuDGzsfOI1nBDd2RkhGs7q7uyuOP3ToUPzD8ed+etlll0V1M2bMqMpXXnllVZ46dWptG5MmTYrqxo0793d48ODBqnzqVDzpxG2eOXMmqjt+/HhVfv/996vy5MmTo+NYyo4ePVrbvkoet1+49QVaWlqi49ra2qryFVdcEdVNmDBh1D5ye0B8P/i82q+1a9fGP+Q26ioclx7c2BkhSeNvvvlmVR4YGIjqWltbq/JVV11V2wYfx3QMxLSrtHXs2LFRy6dPxwGnd955pyqzLOixTIMqGdy+SsGJEydGbUPrmI6VZnfv3l2V+X4A8XVz//V+MMWfPHkyqtPrroM/2RnBjZ0R3NgZIUn2rEPqXnV0dFTlmTNnRnVXX30uH4DdHNU8dnNY/4BYs7gN1SvW2GnTpkV17KaxrqkLxdep/eA21GVj/dVxAIPPp+fm6+T2jhw5Eh2n1804fLixiKs/2RnBjZ0RkjTOtNve3h7VzZlzLqtGo0JMVRx5U7eGXR6mUgCYMmVKVWaKHBwcjI7j3/FvgJjemJ7ZjVFcfvnl0Wf+XYr+2c3TCBq7YnqdDKZudTFZhvQ+KuXXwZ/sjODGzghu7IyQ1Gx2NTR8xzM5quesKaxzGtbjMYFqVJ22qd5ym++9915Ux24Tu3nqxrDLo6FOht6DiRMnjto+f6/Q/te5VENDQ7WfeayTakPhT3ZGcGNnhCSNc0RKKZjdIY2MMf1rsgGDKV6piD+nIlAMpUiWE25PJYNdl/7+/qiOrzsVqWKa1YgizwqqPPFM4PDwubR1PRe7sDzTB4yUlzr4k50R3NgZIUnjTD86EaKT8HVI5XcxdETP7XPUTKNkPDLlJAGgPlLGngQQj56Vxrn/Spfc51tuuaUq79+/v7YfmofH94RpXEf0s2bNqsqc4weMjCrWwZ/sjODGzghu7IyQ1GzWJHWNUokNrFHs/qheMdQd4vPxTJRq6o4dO6qyuivcBmv9ypUro+NYD1999dWojpMudbaJZ7dYN1l7tf/aBt+7VOSN78/s2bOjugMHDtT+juFPdkZwY2eEJI1Pnz69KitVsBuiLhVPJnB0TaWA29DcL6Z8prC+vr7oOI5caSSPaZHpUvPFmHY5tw6I8+k0d56ve8uWLVVZo3wchdPkCL4HqaVMfH/0PqorVgd/sjOCGzsjuLEzQsOarUmFrI/q8rAOqfZEJyctS4Vft23bVpU1BMr6q64L6yMft3Xr1ui4OjcPGJmLzuCxCWuqjmF4zKGzgHVLfTVpke+Vjm9S95jhT3ZGcGNnhCSNM5Wk8p01glZHK0pN7KLo0hrOJ2O3T5cHM62r1Fx//fVVmalaryU1a8TywrtIAMCCBQuq8vbt26tyT09PdBxft96bunxzdQ9TVO3JC44RcGNnhCSNc2JAKl1VA/88WmRq0k14eNSqwX0+H0eIeNICiGmcaVWRSoDgUby2z9e2cOHCqI4jXtymRtr43OoxsJQxVStt8/3QSGGje9n5k50R3NgZwY2dERp+PZEmF7BOqOvFCX2cfLdrV/ymBHaBdOkOJynwzNOKFSui4ziHWvWWZ7C4fU2i4GtR95B/p7nzrM179+6tyqrLrOcaAWT9TbloqtMMj6A5RsCNnRGSNM50p6v72SXR4D4vaeFkA3XRmP45lwyIpYDdMl1aw+6c0ueSJUuq8rvvvluVU5KkfeRzK13ydXOkTWWC6V7lisETKyonfG2pyaAU/MnOCG7sjODGzghJzWY9TIVLVV/4MycEapiSdVlDqazNrL26XJUTGzo7O6M6DlNee+21tf1P7Z7ELqAmDXBiA9+fm266KTqOkzs2bNgQ1fH1pGYWU6HU1G4RDH+yM4IbOyMkaZwnxVNUl0Jqn2ymRc314kjZDTfcUJXXrVsXHccJC9o+JxTMmzev9lxMiyonXKf3gOmZZ+Y44gfEUqYJFiqBZ6HubGr3CXUl6+BPdkZwY2eEhidClFbqAvhA/ehQ6ZNH47fffntUt2zZsqrMkylKWXPnzq3KmovFdMp9Sq321D3GGDqR88Ybb1TlO+64oyprnhyfTyeNeA/Y1HIo7n9qGVIK/mRnBDd2RnBjZ4SkZrNOqw5znrdqNus5R7VUr9gdWr58eVTHyYOvvfZaVWaNBmK3TJfbch/ZbdI88T179lRlnZViPVe3iZdHpZIoeByg95H1lscjOv7gmS3fLclxXrixM0KSxjnnSqmC6Sf1FjpeMrNv377ouFtvvbUq6+QBt8EJBUql8+fPr8qap7V58+ZR+6vbO/NmeTrJwFLQ1dUV1d14442jnltz1bgNdalYQlg2Uy9e1eQIlY06+JOdEdzYGcGNnREaXuulbhO7Aup6sQvBGrt69eroON58jt0YANi5c2dVZr1Sve3t7a3KOq5Yv359VWbdVPeHXRlNsNDdmRjXXHNNVb755pursuo+u3Ma2qx7TZPOsPE91evUPtfBn+yM4MbOCEkab3TCPDV5zjR+2223RXWcc/X6669HdbychmlXN9/jHDTtB9Mpn0t3eWAJ4fMCsTukEsJSU+cqArErpnLIETrul8oat6HU78t/HCPgxs4IbuyM0LBma6YKa2AqOY73LGdXCIhzw3UNV90beHVTOnbLdK0Xu1Sso6lluZq0yDqqWszhWN5IT9tgvU1l09RtrKvQTJjFixfXHsvwJzsjuLEzQsM0rktTmJqUFpmqmNL0FUicOJdy33jmTHdVYgnRVz0xmO5T+4eqW8bH6qxaXYKguqmccKj3iimZ6/R+sPupiZtK63XwJzsjuLEzQsPLf1Kr+5X6OB+87g082n5qG2umN82/YvrUBAhegclRJk0uSCVHsHwpBbPHwEkIuoSIaZ3z7oD4nqQkj+VE3ziYynVn+JOdEdzYGcGNnRGSms16pRP+qZels46yPmqEiz9r0iJrGe90pAl7vFZKZ6x4/Ri7eW+//XZ0XCq6lnqLHrt6PAOmv2HXSGezWKd5lymd2eJIm7ah11MHf7Izghs7IzT8snRdJsoRHqUcdpuYxvWF6Axtg6mQz6UvRuXlP7q5DssLy466XjzpoP1gt0Yjb+xycmKGum+ptyFxLn0qF3/RokVVWWmcl0el4E92RnBjZwQ3dkZIarZuIsfgfG1NAqzLG1c9TM10cbiQXSN1ATkUqWFEdsVYD3VWiscmqqkc+tTECR6DpN6ox3Ua2uT8cB5jaFiVkzt0dk9fIF8Hf7Izghs7IzS837juSMC7HKibwBTMtKsJEEx36tbUuXY6w8Z1umSG2+SyUnVqf1WmaqVgpk+WEI0o1uWvA/Uvcee3Deq5N23aFNW99dZbaAT+ZGcEN3ZGSNI404qOdJl+lN44+sVJCaldDXRkzpTM51Ia5M+pt9yllsjwcTraT03k8MQFt6GRQv5d6m17LH+61Ig9ko0bN0Z1dStBFf5kZwQ3dkZwY2eEpGazFuikPut5alcGdt9Uh7h9XVrD2sntq27WvdFXP6eW0/B4RNtgrdc2WJs5iqgRurrXSwBx0sOWLVuqss5s8Y5I2sfUbCLDn+yM4MbOCEka52QAdjOAmJo0p5xpkZfuqIvAG8HoZIqe7yzUhWp0BwimPk1eYGpVmmVKVheTP9e98Uj7pZvf9PT0VGW+B7rRDt9HfZOR7zfuGAE3dkZwY2eEhjeqTa31UleDZ8HYhdBdB1jzdH0U6xcfl3pDrtaxlqU26ePjVP/q1pwBceiTxyM6C8juooZ7uf9Lly6tyryJHhBvyMvvIwHSS5Wj/jZ0lOOSgBs7I5hSsOPShT/ZGcGNnRHc2BnBjZ0R3NgZwY2dEf4PlTWaYu72BMsAAAAASUVORK5CYII=\n"
                },
                "metadata": {
                  "needs_background": "light"
                }
              }
            ]
          }
        },
        "ace331bf13a24a4b9f02c3c0e0c498b5": {
          "model_module": "@jupyter-widgets/base",
          "model_name": "LayoutModel",
          "model_module_version": "1.2.0",
          "state": {
            "_model_module": "@jupyter-widgets/base",
            "_model_module_version": "1.2.0",
            "_model_name": "LayoutModel",
            "_view_count": null,
            "_view_module": "@jupyter-widgets/base",
            "_view_module_version": "1.2.0",
            "_view_name": "LayoutView",
            "align_content": null,
            "align_items": null,
            "align_self": null,
            "border": null,
            "bottom": null,
            "display": null,
            "flex": null,
            "flex_flow": null,
            "grid_area": null,
            "grid_auto_columns": null,
            "grid_auto_flow": null,
            "grid_auto_rows": null,
            "grid_column": null,
            "grid_gap": null,
            "grid_row": null,
            "grid_template_areas": null,
            "grid_template_columns": null,
            "grid_template_rows": null,
            "height": null,
            "justify_content": null,
            "justify_items": null,
            "left": null,
            "margin": null,
            "max_height": null,
            "max_width": null,
            "min_height": null,
            "min_width": null,
            "object_fit": null,
            "object_position": null,
            "order": null,
            "overflow": null,
            "overflow_x": null,
            "overflow_y": null,
            "padding": null,
            "right": null,
            "top": null,
            "visibility": null,
            "width": null
          }
        },
        "226070ef1fd8450ead91cdbb10c8e572": {
          "model_module": "@jupyter-widgets/base",
          "model_name": "LayoutModel",
          "model_module_version": "1.2.0",
          "state": {
            "_model_module": "@jupyter-widgets/base",
            "_model_module_version": "1.2.0",
            "_model_name": "LayoutModel",
            "_view_count": null,
            "_view_module": "@jupyter-widgets/base",
            "_view_module_version": "1.2.0",
            "_view_name": "LayoutView",
            "align_content": null,
            "align_items": null,
            "align_self": null,
            "border": null,
            "bottom": null,
            "display": null,
            "flex": null,
            "flex_flow": null,
            "grid_area": null,
            "grid_auto_columns": null,
            "grid_auto_flow": null,
            "grid_auto_rows": null,
            "grid_column": null,
            "grid_gap": null,
            "grid_row": null,
            "grid_template_areas": null,
            "grid_template_columns": null,
            "grid_template_rows": null,
            "height": null,
            "justify_content": null,
            "justify_items": null,
            "left": null,
            "margin": null,
            "max_height": null,
            "max_width": null,
            "min_height": null,
            "min_width": null,
            "object_fit": null,
            "object_position": null,
            "order": null,
            "overflow": null,
            "overflow_x": null,
            "overflow_y": null,
            "padding": null,
            "right": null,
            "top": null,
            "visibility": null,
            "width": null
          }
        },
        "ab6147d562f143cf9b044095c8103d8d": {
          "model_module": "@jupyter-widgets/controls",
          "model_name": "SliderStyleModel",
          "model_module_version": "1.5.0",
          "state": {
            "_model_module": "@jupyter-widgets/controls",
            "_model_module_version": "1.5.0",
            "_model_name": "SliderStyleModel",
            "_view_count": null,
            "_view_module": "@jupyter-widgets/base",
            "_view_module_version": "1.2.0",
            "_view_name": "StyleView",
            "description_width": "",
            "handle_color": null
          }
        },
        "f3a3ff61e3ee4859ba018adf3c3f344b": {
          "model_module": "@jupyter-widgets/base",
          "model_name": "LayoutModel",
          "model_module_version": "1.2.0",
          "state": {
            "_model_module": "@jupyter-widgets/base",
            "_model_module_version": "1.2.0",
            "_model_name": "LayoutModel",
            "_view_count": null,
            "_view_module": "@jupyter-widgets/base",
            "_view_module_version": "1.2.0",
            "_view_name": "LayoutView",
            "align_content": null,
            "align_items": null,
            "align_self": null,
            "border": null,
            "bottom": null,
            "display": null,
            "flex": null,
            "flex_flow": null,
            "grid_area": null,
            "grid_auto_columns": null,
            "grid_auto_flow": null,
            "grid_auto_rows": null,
            "grid_column": null,
            "grid_gap": null,
            "grid_row": null,
            "grid_template_areas": null,
            "grid_template_columns": null,
            "grid_template_rows": null,
            "height": null,
            "justify_content": null,
            "justify_items": null,
            "left": null,
            "margin": null,
            "max_height": null,
            "max_width": null,
            "min_height": null,
            "min_width": null,
            "object_fit": null,
            "object_position": null,
            "order": null,
            "overflow": null,
            "overflow_x": null,
            "overflow_y": null,
            "padding": null,
            "right": null,
            "top": null,
            "visibility": null,
            "width": null
          }
        },
        "6b4110e8b7fa4626bf9b692713d17228": {
          "model_module": "@jupyter-widgets/controls",
          "model_name": "VBoxModel",
          "model_module_version": "1.5.0",
          "state": {
            "_dom_classes": [
              "widget-interact"
            ],
            "_model_module": "@jupyter-widgets/controls",
            "_model_module_version": "1.5.0",
            "_model_name": "VBoxModel",
            "_view_count": null,
            "_view_module": "@jupyter-widgets/controls",
            "_view_module_version": "1.5.0",
            "_view_name": "VBoxView",
            "box_style": "",
            "children": [
              "IPY_MODEL_219ed31190654a10bd17d69eb4ba3482",
              "IPY_MODEL_8c57633fb5a14bbd8253c99c2a3330f9"
            ],
            "layout": "IPY_MODEL_5591e416bf93493db15cb6e4b658716b"
          }
        },
        "219ed31190654a10bd17d69eb4ba3482": {
          "model_module": "@jupyter-widgets/controls",
          "model_name": "IntSliderModel",
          "model_module_version": "1.5.0",
          "state": {
            "_dom_classes": [],
            "_model_module": "@jupyter-widgets/controls",
            "_model_module_version": "1.5.0",
            "_model_name": "IntSliderModel",
            "_view_count": null,
            "_view_module": "@jupyter-widgets/controls",
            "_view_module_version": "1.5.0",
            "_view_name": "IntSliderView",
            "continuous_update": true,
            "description": "idx_ex",
            "description_tooltip": null,
            "disabled": false,
            "layout": "IPY_MODEL_41f9b765317841009bd33895bafacc2d",
            "max": 2000,
            "min": 0,
            "orientation": "horizontal",
            "readout": true,
            "readout_format": "d",
            "step": 1,
            "style": "IPY_MODEL_53f7b822a0554ca6aed0ba744b4789ef",
            "value": 0
          }
        },
        "8c57633fb5a14bbd8253c99c2a3330f9": {
          "model_module": "@jupyter-widgets/output",
          "model_name": "OutputModel",
          "model_module_version": "1.0.0",
          "state": {
            "_dom_classes": [],
            "_model_module": "@jupyter-widgets/output",
            "_model_module_version": "1.0.0",
            "_model_name": "OutputModel",
            "_view_count": null,
            "_view_module": "@jupyter-widgets/output",
            "_view_module_version": "1.0.0",
            "_view_name": "OutputView",
            "layout": "IPY_MODEL_a810e39559f64d37b528b9fb9cce4014",
            "msg_id": "",
            "outputs": [
              {
                "output_type": "display_data",
                "data": {
                  "text/plain": "<Figure size 144x144 with 1 Axes>",
                  "image/png": "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\n"
                },
                "metadata": {
                  "needs_background": "light"
                }
              }
            ]
          }
        },
        "5591e416bf93493db15cb6e4b658716b": {
          "model_module": "@jupyter-widgets/base",
          "model_name": "LayoutModel",
          "model_module_version": "1.2.0",
          "state": {
            "_model_module": "@jupyter-widgets/base",
            "_model_module_version": "1.2.0",
            "_model_name": "LayoutModel",
            "_view_count": null,
            "_view_module": "@jupyter-widgets/base",
            "_view_module_version": "1.2.0",
            "_view_name": "LayoutView",
            "align_content": null,
            "align_items": null,
            "align_self": null,
            "border": null,
            "bottom": null,
            "display": null,
            "flex": null,
            "flex_flow": null,
            "grid_area": null,
            "grid_auto_columns": null,
            "grid_auto_flow": null,
            "grid_auto_rows": null,
            "grid_column": null,
            "grid_gap": null,
            "grid_row": null,
            "grid_template_areas": null,
            "grid_template_columns": null,
            "grid_template_rows": null,
            "height": null,
            "justify_content": null,
            "justify_items": null,
            "left": null,
            "margin": null,
            "max_height": null,
            "max_width": null,
            "min_height": null,
            "min_width": null,
            "object_fit": null,
            "object_position": null,
            "order": null,
            "overflow": null,
            "overflow_x": null,
            "overflow_y": null,
            "padding": null,
            "right": null,
            "top": null,
            "visibility": null,
            "width": null
          }
        },
        "41f9b765317841009bd33895bafacc2d": {
          "model_module": "@jupyter-widgets/base",
          "model_name": "LayoutModel",
          "model_module_version": "1.2.0",
          "state": {
            "_model_module": "@jupyter-widgets/base",
            "_model_module_version": "1.2.0",
            "_model_name": "LayoutModel",
            "_view_count": null,
            "_view_module": "@jupyter-widgets/base",
            "_view_module_version": "1.2.0",
            "_view_name": "LayoutView",
            "align_content": null,
            "align_items": null,
            "align_self": null,
            "border": null,
            "bottom": null,
            "display": null,
            "flex": null,
            "flex_flow": null,
            "grid_area": null,
            "grid_auto_columns": null,
            "grid_auto_flow": null,
            "grid_auto_rows": null,
            "grid_column": null,
            "grid_gap": null,
            "grid_row": null,
            "grid_template_areas": null,
            "grid_template_columns": null,
            "grid_template_rows": null,
            "height": null,
            "justify_content": null,
            "justify_items": null,
            "left": null,
            "margin": null,
            "max_height": null,
            "max_width": null,
            "min_height": null,
            "min_width": null,
            "object_fit": null,
            "object_position": null,
            "order": null,
            "overflow": null,
            "overflow_x": null,
            "overflow_y": null,
            "padding": null,
            "right": null,
            "top": null,
            "visibility": null,
            "width": null
          }
        },
        "53f7b822a0554ca6aed0ba744b4789ef": {
          "model_module": "@jupyter-widgets/controls",
          "model_name": "SliderStyleModel",
          "model_module_version": "1.5.0",
          "state": {
            "_model_module": "@jupyter-widgets/controls",
            "_model_module_version": "1.5.0",
            "_model_name": "SliderStyleModel",
            "_view_count": null,
            "_view_module": "@jupyter-widgets/base",
            "_view_module_version": "1.2.0",
            "_view_name": "StyleView",
            "description_width": "",
            "handle_color": null
          }
        },
        "a810e39559f64d37b528b9fb9cce4014": {
          "model_module": "@jupyter-widgets/base",
          "model_name": "LayoutModel",
          "model_module_version": "1.2.0",
          "state": {
            "_model_module": "@jupyter-widgets/base",
            "_model_module_version": "1.2.0",
            "_model_name": "LayoutModel",
            "_view_count": null,
            "_view_module": "@jupyter-widgets/base",
            "_view_module_version": "1.2.0",
            "_view_name": "LayoutView",
            "align_content": null,
            "align_items": null,
            "align_self": null,
            "border": null,
            "bottom": null,
            "display": null,
            "flex": null,
            "flex_flow": null,
            "grid_area": null,
            "grid_auto_columns": null,
            "grid_auto_flow": null,
            "grid_auto_rows": null,
            "grid_column": null,
            "grid_gap": null,
            "grid_row": null,
            "grid_template_areas": null,
            "grid_template_columns": null,
            "grid_template_rows": null,
            "height": null,
            "justify_content": null,
            "justify_items": null,
            "left": null,
            "margin": null,
            "max_height": null,
            "max_width": null,
            "min_height": null,
            "min_width": null,
            "object_fit": null,
            "object_position": null,
            "order": null,
            "overflow": null,
            "overflow_x": null,
            "overflow_y": null,
            "padding": null,
            "right": null,
            "top": null,
            "visibility": null,
            "width": null
          }
        },
        "28b91118450e496ea68603ea5dce429e": {
          "model_module": "@jupyter-widgets/controls",
          "model_name": "VBoxModel",
          "model_module_version": "1.5.0",
          "state": {
            "_dom_classes": [
              "widget-interact"
            ],
            "_model_module": "@jupyter-widgets/controls",
            "_model_module_version": "1.5.0",
            "_model_name": "VBoxModel",
            "_view_count": null,
            "_view_module": "@jupyter-widgets/controls",
            "_view_module_version": "1.5.0",
            "_view_name": "VBoxView",
            "box_style": "",
            "children": [
              "IPY_MODEL_114fd682984f414daaeea93adb9b419a",
              "IPY_MODEL_8fa77a13936948d5b203091a6221b1f7",
              "IPY_MODEL_a18d6793ddb04fa2abb3cd28bf567ecc",
              "IPY_MODEL_4c5adc7067354cd59668744ba1fd3a36"
            ],
            "layout": "IPY_MODEL_2dbf50fdd1b34b7989d2399bf8d86b73"
          }
        },
        "114fd682984f414daaeea93adb9b419a": {
          "model_module": "@jupyter-widgets/controls",
          "model_name": "IntSliderModel",
          "model_module_version": "1.5.0",
          "state": {
            "_dom_classes": [],
            "_model_module": "@jupyter-widgets/controls",
            "_model_module_version": "1.5.0",
            "_model_name": "IntSliderModel",
            "_view_count": null,
            "_view_module": "@jupyter-widgets/controls",
            "_view_module_version": "1.5.0",
            "_view_name": "IntSliderView",
            "continuous_update": true,
            "description": "idx_ex",
            "description_tooltip": null,
            "disabled": false,
            "layout": "IPY_MODEL_3d1ed7e969184c02b079101cc3a80d07",
            "max": 2000,
            "min": 0,
            "orientation": "horizontal",
            "readout": true,
            "readout_format": "d",
            "step": 1,
            "style": "IPY_MODEL_022ed620abbe4d1e8c5dbe25242ae42d",
            "value": 0
          }
        },
        "8fa77a13936948d5b203091a6221b1f7": {
          "model_module": "@jupyter-widgets/controls",
          "model_name": "IntSliderModel",
          "model_module_version": "1.5.0",
          "state": {
            "_dom_classes": [],
            "_model_module": "@jupyter-widgets/controls",
            "_model_module_version": "1.5.0",
            "_model_name": "IntSliderModel",
            "_view_count": null,
            "_view_module": "@jupyter-widgets/controls",
            "_view_module_version": "1.5.0",
            "_view_name": "IntSliderView",
            "continuous_update": true,
            "description": "pool_size",
            "description_tooltip": null,
            "disabled": false,
            "layout": "IPY_MODEL_f92aa13668884703b72afb73f2f90504",
            "max": 32,
            "min": 1,
            "orientation": "horizontal",
            "readout": true,
            "readout_format": "d",
            "step": 1,
            "style": "IPY_MODEL_cce816b87818494a89a320ea0478356c",
            "value": 6
          }
        },
        "a18d6793ddb04fa2abb3cd28bf567ecc": {
          "model_module": "@jupyter-widgets/controls",
          "model_name": "IntSliderModel",
          "model_module_version": "1.5.0",
          "state": {
            "_dom_classes": [],
            "_model_module": "@jupyter-widgets/controls",
            "_model_module_version": "1.5.0",
            "_model_name": "IntSliderModel",
            "_view_count": null,
            "_view_module": "@jupyter-widgets/controls",
            "_view_module_version": "1.5.0",
            "_view_name": "IntSliderView",
            "continuous_update": true,
            "description": "pool_stride",
            "description_tooltip": null,
            "disabled": false,
            "layout": "IPY_MODEL_e2d5f85ae44e4ca8a97e174af2603882",
            "max": 16,
            "min": 1,
            "orientation": "horizontal",
            "readout": true,
            "readout_format": "d",
            "step": 1,
            "style": "IPY_MODEL_7140116ac4574b39b0a47b83fcba2c47",
            "value": 3
          }
        },
        "4c5adc7067354cd59668744ba1fd3a36": {
          "model_module": "@jupyter-widgets/output",
          "model_name": "OutputModel",
          "model_module_version": "1.0.0",
          "state": {
            "_dom_classes": [],
            "_model_module": "@jupyter-widgets/output",
            "_model_module_version": "1.0.0",
            "_model_name": "OutputModel",
            "_view_count": null,
            "_view_module": "@jupyter-widgets/output",
            "_view_module_version": "1.0.0",
            "_view_name": "OutputView",
            "layout": "IPY_MODEL_5a6fc36c22fc4323a337a8c6c9dbd7cf",
            "msg_id": "",
            "outputs": [
              {
                "output_type": "display_data",
                "data": {
                  "text/plain": "<Figure size 288x288 with 2 Axes>",
                  "image/png": "iVBORw0KGgoAAAANSUhEUgAAAO0AAACDCAYAAABhs5ylAAAABHNCSVQICAgIfAhkiAAAAAlwSFlzAAALEgAACxIB0t1+/AAAADh0RVh0U29mdHdhcmUAbWF0cGxvdGxpYiB2ZXJzaW9uMy4yLjIsIGh0dHA6Ly9tYXRwbG90bGliLm9yZy+WH4yJAAAHm0lEQVR4nO3dXYhcdx3G8e9TNBttuhY1otsaa9ELFbeILxBra41XoUYjNQUt2S2ItYpXGkFyYy8kEkhuxYJKzLYobqLBl5ZIaddKDM2FtVurvYgx0m2KrMZmkxq3Sn9enFmYnD0zO3NmZmd/yfOBhZ1zzv9l9pfnvO2crCICM8vjqmFPwMy649CaJePQmiXj0Jol49CaJePQmiWzKqGVdEHSjY3vD0j61mqMW4ekEUl/kvSWVRjrsKStgx5nNWSqMYCkY5Letwrj7Jf0pX722dfQSjot6WKjgEtfYxGxISJOVWx/m6S5Ps9BkvZK+mfja68kddHFPcDjEfFCo7+HS+/nZUlPdziX3aW2FyW9IumNjU32Amv6H3fZGqnxxyQ9JumcpNM12m8DzkfEk43X3y29n0VJ5zvs665S239LCknvb2yyD9gtaV2382xlEEfabY0CLn2d6aUzSa/qssk9wHbgJmAc2AZ8sYv29wJTSy8iYmvz+wF+B0x30lFE7Cm13QvMRMQ/GutPAKOSPtDF/NaCYdf4JeAHwNdrDlmu8b2lOv2Izmv8YKntl4FTwO8b618AngU+WXOuy6zW6XFIekdp2dXAw8BY8x5b0n2SDkl6QNICcHdj+c8lnZV0UtIX2gw3CeyPiLmIeB7YD9zd4Tw3ATcCT7RYfwNwC3Cwk/5KbQVMAD8srZoBbu+2v7VmNWscESciYooiHN3Ocx2wBfhNi/VXA3ewvE6dmgQOxqUfNZyhjzUe2o2oiHgJ2Aqcqdhjfwo4BFwLPAj8GJgDxoDPAHskbWnR9XuAp5peP9VYBoCkWUmfa9H2vcCpiPhfi/UTwG8j4vRK76/CLcCbgMOl5X+mOCu47Aywxm1J+qWkb7RY/U7glYhodcp+BzAPPF5j3LcBt7J8p97XGnd7WtKJI5KW/tHPRMT2Gn0cj4gjAI3rv5uB2yPiP8AfJH2PIkCPVrTdAJxren0O2CBJURhvM+61QLtrmQnqX4NOAoci4kJp+fnGuJkMu8ZtRcQn2qxeqcZVR8pOLe3U/1pa3tcaDyK02yPikR77eK7p+zHgbEQ0/6D/BrS6DrwAjDa9HgUudFiEfwHXVK2Q9BHgzRRHh65Iei2wg+LoUnYN8GK3fQ7ZsGvci3Y13gTcBrS7/GpnAthTsbyvNR7272lbBal5+Rng9ZKaf9CbgOdbtH2GS09Fbmos68Qs8PYWN0YmgZ9WHCk78WngLMW1Tdm7uPR0/nIziBr34iTFLYbrKtbtBI5V3QVfiaSbKXY+VTv1vtZ42KH9O/AGSa9rtUFEPEdxx/bbktZLGgc+DzzQoslB4KuSrpM0BnwNONDJZBrXOSeBDzUvl/Qa4M6qfiTNSLpvha7bnXJ9lOJmzeWq7zWWdJWk9cCri5da3+mvVCLiZeARip972QTVNT4gadnykkngcOlsYUlfazzU0EbEsxS3109JerERsiqfBW6g2CP/DPhmm9Oz+4FfAE8DfwR+1VgGgKRnJN3VZlr3U+xxm22nOL15rGL7twLHWnXW2KNvoeKOs6QPUpy6n2gzn9QGVONbgYvAQxRH5IvAr5dWqvjd+u4201pWY0mbgeup/lXPSjVeT7FTX3bHWcWHdN4NHGkzn67ID8FfStII8CTw8aUPWLTZ9nrgJxHx4ZpjHQa+HxEP1Wlv9Uk6Bnxl6QMWbbZbR3FqOx4R/60xzn7gLxHxnXozrejToTXLZdjXtGbWJYfWLBmH1iyZth+ukOQL3jUoIrp5amlFvdR5165dtdrt3Fm+Qd+58fF2H2prbXZ2tvaYU1NTK29UYd++fbXHbFVnH2nNknFozZJxaM2ScWjNknFozZJxaM2ScWjNknFozZJxaM2ScWjNknFozZJxaM2ScWjNknFozZIZxP97DMDIyEitdhs3bqw95ujo6MobVVhYWKg95vz8fK12i4uLtce0K5uPtGbJOLRmyTi0Zsk4tGbJOLRmyTi0Zsk4tGbJOLRmyTi0Zsk4tGbJOLRmyTi0Zsk4tGbJDOwpn7pP6+zYsaP2mJs3b67V7vjx47XHnJ6ertVubm6u9ph2ZfOR1iwZh9YsGYfWLBmH1iwZh9YsGYfWLBmH1iwZh9YsGYfWLBmH1iwZh9YsGYfWLBmH1iwZh9YsmYE9mlf3j2HVfbwOenusr66jR4+u+ph2ZfOR1iwZh9YsGYfWLBmH1iwZh9YsGYfWLBmH1iwZh9YsGYfWLBmH1iwZh9YsGYfWLBmH1iyZgT3ls7CwUKtdL38Mq65exqz7Ps3q8pHWLBmH1iwZh9YsGYfWLBmH1iwZh9YsGYfWLBmH1iwZh9YsGYfWLBmH1iwZh9YsGYfWLBmH1iyZgT2aNz8/X6vd9PR07THr/jGsXh6vq/s+zerykdYsGYfWLBmH1iwZh9YsGYfWLBmH1iwZh9YsGYfWLBmH1iwZh9YsGYfWLBmH1iwZh9YsmYE95bO4uFir3dzcXJ9nYnZ58ZHWLBmH1iwZh9YsGYfWLBmH1iwZh9YsGYfWLBmH1iwZh9YsGYfWLBmH1iwZh9YsGYfWLBmH1iwZRcSw52BmXfCR1iwZh9YsGYfWLBmH1iwZh9YsGYfWLJn/AwdMcESL/nqCAAAAAElFTkSuQmCC\n"
                },
                "metadata": {
                  "needs_background": "light"
                }
              },
              {
                "output_type": "display_data",
                "data": {
                  "text/plain": "<Figure size 432x288 with 3 Axes>",
                  "image/png": "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\n"
                },
                "metadata": {
                  "needs_background": "light"
                }
              }
            ]
          }
        },
        "2dbf50fdd1b34b7989d2399bf8d86b73": {
          "model_module": "@jupyter-widgets/base",
          "model_name": "LayoutModel",
          "model_module_version": "1.2.0",
          "state": {
            "_model_module": "@jupyter-widgets/base",
            "_model_module_version": "1.2.0",
            "_model_name": "LayoutModel",
            "_view_count": null,
            "_view_module": "@jupyter-widgets/base",
            "_view_module_version": "1.2.0",
            "_view_name": "LayoutView",
            "align_content": null,
            "align_items": null,
            "align_self": null,
            "border": null,
            "bottom": null,
            "display": null,
            "flex": null,
            "flex_flow": null,
            "grid_area": null,
            "grid_auto_columns": null,
            "grid_auto_flow": null,
            "grid_auto_rows": null,
            "grid_column": null,
            "grid_gap": null,
            "grid_row": null,
            "grid_template_areas": null,
            "grid_template_columns": null,
            "grid_template_rows": null,
            "height": null,
            "justify_content": null,
            "justify_items": null,
            "left": null,
            "margin": null,
            "max_height": null,
            "max_width": null,
            "min_height": null,
            "min_width": null,
            "object_fit": null,
            "object_position": null,
            "order": null,
            "overflow": null,
            "overflow_x": null,
            "overflow_y": null,
            "padding": null,
            "right": null,
            "top": null,
            "visibility": null,
            "width": null
          }
        },
        "3d1ed7e969184c02b079101cc3a80d07": {
          "model_module": "@jupyter-widgets/base",
          "model_name": "LayoutModel",
          "model_module_version": "1.2.0",
          "state": {
            "_model_module": "@jupyter-widgets/base",
            "_model_module_version": "1.2.0",
            "_model_name": "LayoutModel",
            "_view_count": null,
            "_view_module": "@jupyter-widgets/base",
            "_view_module_version": "1.2.0",
            "_view_name": "LayoutView",
            "align_content": null,
            "align_items": null,
            "align_self": null,
            "border": null,
            "bottom": null,
            "display": null,
            "flex": null,
            "flex_flow": null,
            "grid_area": null,
            "grid_auto_columns": null,
            "grid_auto_flow": null,
            "grid_auto_rows": null,
            "grid_column": null,
            "grid_gap": null,
            "grid_row": null,
            "grid_template_areas": null,
            "grid_template_columns": null,
            "grid_template_rows": null,
            "height": null,
            "justify_content": null,
            "justify_items": null,
            "left": null,
            "margin": null,
            "max_height": null,
            "max_width": null,
            "min_height": null,
            "min_width": null,
            "object_fit": null,
            "object_position": null,
            "order": null,
            "overflow": null,
            "overflow_x": null,
            "overflow_y": null,
            "padding": null,
            "right": null,
            "top": null,
            "visibility": null,
            "width": null
          }
        },
        "022ed620abbe4d1e8c5dbe25242ae42d": {
          "model_module": "@jupyter-widgets/controls",
          "model_name": "SliderStyleModel",
          "model_module_version": "1.5.0",
          "state": {
            "_model_module": "@jupyter-widgets/controls",
            "_model_module_version": "1.5.0",
            "_model_name": "SliderStyleModel",
            "_view_count": null,
            "_view_module": "@jupyter-widgets/base",
            "_view_module_version": "1.2.0",
            "_view_name": "StyleView",
            "description_width": "",
            "handle_color": null
          }
        },
        "f92aa13668884703b72afb73f2f90504": {
          "model_module": "@jupyter-widgets/base",
          "model_name": "LayoutModel",
          "model_module_version": "1.2.0",
          "state": {
            "_model_module": "@jupyter-widgets/base",
            "_model_module_version": "1.2.0",
            "_model_name": "LayoutModel",
            "_view_count": null,
            "_view_module": "@jupyter-widgets/base",
            "_view_module_version": "1.2.0",
            "_view_name": "LayoutView",
            "align_content": null,
            "align_items": null,
            "align_self": null,
            "border": null,
            "bottom": null,
            "display": null,
            "flex": null,
            "flex_flow": null,
            "grid_area": null,
            "grid_auto_columns": null,
            "grid_auto_flow": null,
            "grid_auto_rows": null,
            "grid_column": null,
            "grid_gap": null,
            "grid_row": null,
            "grid_template_areas": null,
            "grid_template_columns": null,
            "grid_template_rows": null,
            "height": null,
            "justify_content": null,
            "justify_items": null,
            "left": null,
            "margin": null,
            "max_height": null,
            "max_width": null,
            "min_height": null,
            "min_width": null,
            "object_fit": null,
            "object_position": null,
            "order": null,
            "overflow": null,
            "overflow_x": null,
            "overflow_y": null,
            "padding": null,
            "right": null,
            "top": null,
            "visibility": null,
            "width": null
          }
        },
        "cce816b87818494a89a320ea0478356c": {
          "model_module": "@jupyter-widgets/controls",
          "model_name": "SliderStyleModel",
          "model_module_version": "1.5.0",
          "state": {
            "_model_module": "@jupyter-widgets/controls",
            "_model_module_version": "1.5.0",
            "_model_name": "SliderStyleModel",
            "_view_count": null,
            "_view_module": "@jupyter-widgets/base",
            "_view_module_version": "1.2.0",
            "_view_name": "StyleView",
            "description_width": "",
            "handle_color": null
          }
        },
        "e2d5f85ae44e4ca8a97e174af2603882": {
          "model_module": "@jupyter-widgets/base",
          "model_name": "LayoutModel",
          "model_module_version": "1.2.0",
          "state": {
            "_model_module": "@jupyter-widgets/base",
            "_model_module_version": "1.2.0",
            "_model_name": "LayoutModel",
            "_view_count": null,
            "_view_module": "@jupyter-widgets/base",
            "_view_module_version": "1.2.0",
            "_view_name": "LayoutView",
            "align_content": null,
            "align_items": null,
            "align_self": null,
            "border": null,
            "bottom": null,
            "display": null,
            "flex": null,
            "flex_flow": null,
            "grid_area": null,
            "grid_auto_columns": null,
            "grid_auto_flow": null,
            "grid_auto_rows": null,
            "grid_column": null,
            "grid_gap": null,
            "grid_row": null,
            "grid_template_areas": null,
            "grid_template_columns": null,
            "grid_template_rows": null,
            "height": null,
            "justify_content": null,
            "justify_items": null,
            "left": null,
            "margin": null,
            "max_height": null,
            "max_width": null,
            "min_height": null,
            "min_width": null,
            "object_fit": null,
            "object_position": null,
            "order": null,
            "overflow": null,
            "overflow_x": null,
            "overflow_y": null,
            "padding": null,
            "right": null,
            "top": null,
            "visibility": null,
            "width": null
          }
        },
        "7140116ac4574b39b0a47b83fcba2c47": {
          "model_module": "@jupyter-widgets/controls",
          "model_name": "SliderStyleModel",
          "model_module_version": "1.5.0",
          "state": {
            "_model_module": "@jupyter-widgets/controls",
            "_model_module_version": "1.5.0",
            "_model_name": "SliderStyleModel",
            "_view_count": null,
            "_view_module": "@jupyter-widgets/base",
            "_view_module_version": "1.2.0",
            "_view_name": "StyleView",
            "description_width": "",
            "handle_color": null
          }
        },
        "5a6fc36c22fc4323a337a8c6c9dbd7cf": {
          "model_module": "@jupyter-widgets/base",
          "model_name": "LayoutModel",
          "model_module_version": "1.2.0",
          "state": {
            "_model_module": "@jupyter-widgets/base",
            "_model_module_version": "1.2.0",
            "_model_name": "LayoutModel",
            "_view_count": null,
            "_view_module": "@jupyter-widgets/base",
            "_view_module_version": "1.2.0",
            "_view_name": "LayoutView",
            "align_content": null,
            "align_items": null,
            "align_self": null,
            "border": null,
            "bottom": null,
            "display": null,
            "flex": null,
            "flex_flow": null,
            "grid_area": null,
            "grid_auto_columns": null,
            "grid_auto_flow": null,
            "grid_auto_rows": null,
            "grid_column": null,
            "grid_gap": null,
            "grid_row": null,
            "grid_template_areas": null,
            "grid_template_columns": null,
            "grid_template_rows": null,
            "height": null,
            "justify_content": null,
            "justify_items": null,
            "left": null,
            "margin": null,
            "max_height": null,
            "max_width": null,
            "min_height": null,
            "min_width": null,
            "object_fit": null,
            "object_position": null,
            "order": null,
            "overflow": null,
            "overflow_x": null,
            "overflow_y": null,
            "padding": null,
            "right": null,
            "top": null,
            "visibility": null,
            "width": null
          }
        }
      }
    }
  },
  "cells": [
    {
      "cell_type": "markdown",
      "metadata": {
        "id": "EuwxB6k0QkkK"
      },
      "source": [
        "# Inteligência Artificial - T1\n",
        "Prof. Eraldo Luís Rezende Fernandes \\\\\n",
        "FACOM – UFMS – 2020.1 \\\\\n",
        "Aluno: Pedro Luiz da Costa Silva - RGA 2018.1904.032-5 \\\\\n",
        "\n",
        "**Submissão final - Trabalho 1**"
      ]
    },
    {
      "cell_type": "markdown",
      "metadata": {
        "id": "sDR8xGDTQqo_"
      },
      "source": [
        "# Observação\n",
        "Foi criada uma variável global chamada rstateglobal, que entrará como atributo random_state na chamada de train_test_split. Isto foi feito para retirar variações na acurácia."
      ]
    },
    {
      "cell_type": "code",
      "metadata": {
        "id": "qwxP_LnNVJTd"
      },
      "source": [
        "rstateglobal = 1"
      ],
      "execution_count": null,
      "outputs": []
    },
    {
      "cell_type": "markdown",
      "metadata": {
        "id": "JnKZygJVR2wA"
      },
      "source": [
        "# Inicialização do dataset"
      ]
    },
    {
      "cell_type": "markdown",
      "metadata": {
        "id": "6frJjuYhRIKR"
      },
      "source": [
        "##Carregamento das bibliotecas e dataset de treino"
      ]
    },
    {
      "cell_type": "code",
      "metadata": {
        "id": "BEntEjQRkOox",
        "outputId": "0ec5fa75-9f0b-4040-cfe7-59200818c918",
        "colab": {
          "base_uri": "https://localhost:8080/",
          "height": 53
        }
      },
      "source": [
        "# Código usado para não mostrar as warnings da sklearn\n",
        "def warn(*args, **kwargs):\n",
        "    pass\n",
        "import warnings\n",
        "warnings.warn = warn\n",
        "\n",
        "import math\n",
        "import random\n",
        "\n",
        "import numpy as np\n",
        "import pandas as pd\n",
        "from matplotlib import colors\n",
        "import matplotlib.pyplot as plt\n",
        "from ipywidgets import interact, IntSlider, fixed\n",
        "from sklearn.pipeline import Pipeline\n",
        "from sklearn.metrics import accuracy_score\n",
        "from sklearn.preprocessing import MinMaxScaler, PolynomialFeatures, StandardScaler\n",
        "from sklearn.linear_model import LogisticRegression\n",
        "from sklearn.model_selection import train_test_split\n",
        "from sklearn.metrics import mean_squared_error\n",
        "from sklearn.model_selection import cross_val_score\n",
        "\n",
        "\n",
        "#Esta classe não foi usada\n",
        "'''\n",
        "class IdentityNormalize(colors.Normalize):\n",
        "  def __call__(self, value, clip=None):\n",
        "      return value\n",
        "\n",
        "id_norm = IdentityNormalize()\n",
        "'''"
      ],
      "execution_count": null,
      "outputs": [
        {
          "output_type": "execute_result",
          "data": {
            "text/plain": [
              "'\\nclass IdentityNormalize(colors.Normalize):\\n  def __call__(self, value, clip=None):\\n      return value\\n\\nid_norm = IdentityNormalize()\\n'"
            ],
            "application/vnd.google.colaboratory.intrinsic+json": {
              "type": "string"
            }
          },
          "metadata": {},
          "execution_count": 2
        }
      ]
    },
    {
      "cell_type": "code",
      "metadata": {
        "id": "G9gJnIromMDo",
        "outputId": "0ad2ffbc-ae39-4478-cc21-326db3c41d88",
        "colab": {
          "base_uri": "https://localhost:8080/",
          "height": 300
        }
      },
      "source": [
        "CLASSES = (\"airplane\", \"automobile\", \"bird\", \"cat\", \"deer\", \n",
        "           \"dog\", \"frog\", \"horse\", \"ship\", \"truck\")\n",
        "\n",
        "df_train_original = pd.read_csv(\"https://github.com/eraldoluis/cifar10-datasets/raw/master/cifar10-train.csv.zip\")\n",
        "df_train_original.head()"
      ],
      "execution_count": null,
      "outputs": [
        {
          "output_type": "execute_result",
          "data": {
            "text/plain": [
              "   label  p_00_00  p_00_01  p_00_02  p_00_03  p_00_04  p_00_05  p_00_06  \\\n",
              "0      6     61.0     45.0     48.0     56.0     77.0     95.0    111.0   \n",
              "1      9    173.0    135.0    104.0    101.0    130.0    165.0    188.0   \n",
              "2      9    255.0    253.0    253.0    253.0    253.0    253.0    253.0   \n",
              "3      4     25.0     34.0     35.0     37.0     39.0     37.0     37.0   \n",
              "4      1    179.0    177.0    185.0    192.0    194.0    193.0    194.0   \n",
              "\n",
              "   p_00_07  p_00_08  ...  p_31_22  p_31_23  p_31_24  p_31_25  p_31_26  \\\n",
              "0    115.0    122.0  ...     92.0     95.0    101.0     92.0     71.0   \n",
              "1    196.0    153.0  ...     23.0     46.0     65.0     91.0    114.0   \n",
              "2    253.0    253.0  ...     75.0     80.0     77.0     66.0     63.0   \n",
              "3     22.0     26.0  ...     81.0     64.0     80.0     67.0     76.0   \n",
              "4    193.0    192.0  ...     88.0     85.0     82.0     79.0     79.0   \n",
              "\n",
              "   p_31_27  p_31_28  p_31_29  p_31_30  p_31_31  \n",
              "0     82.0    144.0    188.0    123.0     97.0  \n",
              "1    129.0    133.0    136.0    136.0    136.0  \n",
              "2     69.0     77.0     83.0     84.0     85.0  \n",
              "3     75.0     58.0     47.0     56.0     65.0  \n",
              "4     75.0     74.0     78.0     74.0     76.0  \n",
              "\n",
              "[5 rows x 1025 columns]"
            ],
            "text/html": [
              "\n",
              "  <div id=\"df-ec58e0bd-9415-415c-9d3c-823b75833c40\">\n",
              "    <div class=\"colab-df-container\">\n",
              "      <div>\n",
              "<style scoped>\n",
              "    .dataframe tbody tr th:only-of-type {\n",
              "        vertical-align: middle;\n",
              "    }\n",
              "\n",
              "    .dataframe tbody tr th {\n",
              "        vertical-align: top;\n",
              "    }\n",
              "\n",
              "    .dataframe thead th {\n",
              "        text-align: right;\n",
              "    }\n",
              "</style>\n",
              "<table border=\"1\" class=\"dataframe\">\n",
              "  <thead>\n",
              "    <tr style=\"text-align: right;\">\n",
              "      <th></th>\n",
              "      <th>label</th>\n",
              "      <th>p_00_00</th>\n",
              "      <th>p_00_01</th>\n",
              "      <th>p_00_02</th>\n",
              "      <th>p_00_03</th>\n",
              "      <th>p_00_04</th>\n",
              "      <th>p_00_05</th>\n",
              "      <th>p_00_06</th>\n",
              "      <th>p_00_07</th>\n",
              "      <th>p_00_08</th>\n",
              "      <th>...</th>\n",
              "      <th>p_31_22</th>\n",
              "      <th>p_31_23</th>\n",
              "      <th>p_31_24</th>\n",
              "      <th>p_31_25</th>\n",
              "      <th>p_31_26</th>\n",
              "      <th>p_31_27</th>\n",
              "      <th>p_31_28</th>\n",
              "      <th>p_31_29</th>\n",
              "      <th>p_31_30</th>\n",
              "      <th>p_31_31</th>\n",
              "    </tr>\n",
              "  </thead>\n",
              "  <tbody>\n",
              "    <tr>\n",
              "      <th>0</th>\n",
              "      <td>6</td>\n",
              "      <td>61.0</td>\n",
              "      <td>45.0</td>\n",
              "      <td>48.0</td>\n",
              "      <td>56.0</td>\n",
              "      <td>77.0</td>\n",
              "      <td>95.0</td>\n",
              "      <td>111.0</td>\n",
              "      <td>115.0</td>\n",
              "      <td>122.0</td>\n",
              "      <td>...</td>\n",
              "      <td>92.0</td>\n",
              "      <td>95.0</td>\n",
              "      <td>101.0</td>\n",
              "      <td>92.0</td>\n",
              "      <td>71.0</td>\n",
              "      <td>82.0</td>\n",
              "      <td>144.0</td>\n",
              "      <td>188.0</td>\n",
              "      <td>123.0</td>\n",
              "      <td>97.0</td>\n",
              "    </tr>\n",
              "    <tr>\n",
              "      <th>1</th>\n",
              "      <td>9</td>\n",
              "      <td>173.0</td>\n",
              "      <td>135.0</td>\n",
              "      <td>104.0</td>\n",
              "      <td>101.0</td>\n",
              "      <td>130.0</td>\n",
              "      <td>165.0</td>\n",
              "      <td>188.0</td>\n",
              "      <td>196.0</td>\n",
              "      <td>153.0</td>\n",
              "      <td>...</td>\n",
              "      <td>23.0</td>\n",
              "      <td>46.0</td>\n",
              "      <td>65.0</td>\n",
              "      <td>91.0</td>\n",
              "      <td>114.0</td>\n",
              "      <td>129.0</td>\n",
              "      <td>133.0</td>\n",
              "      <td>136.0</td>\n",
              "      <td>136.0</td>\n",
              "      <td>136.0</td>\n",
              "    </tr>\n",
              "    <tr>\n",
              "      <th>2</th>\n",
              "      <td>9</td>\n",
              "      <td>255.0</td>\n",
              "      <td>253.0</td>\n",
              "      <td>253.0</td>\n",
              "      <td>253.0</td>\n",
              "      <td>253.0</td>\n",
              "      <td>253.0</td>\n",
              "      <td>253.0</td>\n",
              "      <td>253.0</td>\n",
              "      <td>253.0</td>\n",
              "      <td>...</td>\n",
              "      <td>75.0</td>\n",
              "      <td>80.0</td>\n",
              "      <td>77.0</td>\n",
              "      <td>66.0</td>\n",
              "      <td>63.0</td>\n",
              "      <td>69.0</td>\n",
              "      <td>77.0</td>\n",
              "      <td>83.0</td>\n",
              "      <td>84.0</td>\n",
              "      <td>85.0</td>\n",
              "    </tr>\n",
              "    <tr>\n",
              "      <th>3</th>\n",
              "      <td>4</td>\n",
              "      <td>25.0</td>\n",
              "      <td>34.0</td>\n",
              "      <td>35.0</td>\n",
              "      <td>37.0</td>\n",
              "      <td>39.0</td>\n",
              "      <td>37.0</td>\n",
              "      <td>37.0</td>\n",
              "      <td>22.0</td>\n",
              "      <td>26.0</td>\n",
              "      <td>...</td>\n",
              "      <td>81.0</td>\n",
              "      <td>64.0</td>\n",
              "      <td>80.0</td>\n",
              "      <td>67.0</td>\n",
              "      <td>76.0</td>\n",
              "      <td>75.0</td>\n",
              "      <td>58.0</td>\n",
              "      <td>47.0</td>\n",
              "      <td>56.0</td>\n",
              "      <td>65.0</td>\n",
              "    </tr>\n",
              "    <tr>\n",
              "      <th>4</th>\n",
              "      <td>1</td>\n",
              "      <td>179.0</td>\n",
              "      <td>177.0</td>\n",
              "      <td>185.0</td>\n",
              "      <td>192.0</td>\n",
              "      <td>194.0</td>\n",
              "      <td>193.0</td>\n",
              "      <td>194.0</td>\n",
              "      <td>193.0</td>\n",
              "      <td>192.0</td>\n",
              "      <td>...</td>\n",
              "      <td>88.0</td>\n",
              "      <td>85.0</td>\n",
              "      <td>82.0</td>\n",
              "      <td>79.0</td>\n",
              "      <td>79.0</td>\n",
              "      <td>75.0</td>\n",
              "      <td>74.0</td>\n",
              "      <td>78.0</td>\n",
              "      <td>74.0</td>\n",
              "      <td>76.0</td>\n",
              "    </tr>\n",
              "  </tbody>\n",
              "</table>\n",
              "<p>5 rows × 1025 columns</p>\n",
              "</div>\n",
              "      <button class=\"colab-df-convert\" onclick=\"convertToInteractive('df-ec58e0bd-9415-415c-9d3c-823b75833c40')\"\n",
              "              title=\"Convert this dataframe to an interactive table.\"\n",
              "              style=\"display:none;\">\n",
              "        \n",
              "  <svg xmlns=\"http://www.w3.org/2000/svg\" height=\"24px\"viewBox=\"0 0 24 24\"\n",
              "       width=\"24px\">\n",
              "    <path d=\"M0 0h24v24H0V0z\" fill=\"none\"/>\n",
              "    <path d=\"M18.56 5.44l.94 2.06.94-2.06 2.06-.94-2.06-.94-.94-2.06-.94 2.06-2.06.94zm-11 1L8.5 8.5l.94-2.06 2.06-.94-2.06-.94L8.5 2.5l-.94 2.06-2.06.94zm10 10l.94 2.06.94-2.06 2.06-.94-2.06-.94-.94-2.06-.94 2.06-2.06.94z\"/><path d=\"M17.41 7.96l-1.37-1.37c-.4-.4-.92-.59-1.43-.59-.52 0-1.04.2-1.43.59L10.3 9.45l-7.72 7.72c-.78.78-.78 2.05 0 2.83L4 21.41c.39.39.9.59 1.41.59.51 0 1.02-.2 1.41-.59l7.78-7.78 2.81-2.81c.8-.78.8-2.07 0-2.86zM5.41 20L4 18.59l7.72-7.72 1.47 1.35L5.41 20z\"/>\n",
              "  </svg>\n",
              "      </button>\n",
              "      \n",
              "  <style>\n",
              "    .colab-df-container {\n",
              "      display:flex;\n",
              "      flex-wrap:wrap;\n",
              "      gap: 12px;\n",
              "    }\n",
              "\n",
              "    .colab-df-convert {\n",
              "      background-color: #E8F0FE;\n",
              "      border: none;\n",
              "      border-radius: 50%;\n",
              "      cursor: pointer;\n",
              "      display: none;\n",
              "      fill: #1967D2;\n",
              "      height: 32px;\n",
              "      padding: 0 0 0 0;\n",
              "      width: 32px;\n",
              "    }\n",
              "\n",
              "    .colab-df-convert:hover {\n",
              "      background-color: #E2EBFA;\n",
              "      box-shadow: 0px 1px 2px rgba(60, 64, 67, 0.3), 0px 1px 3px 1px rgba(60, 64, 67, 0.15);\n",
              "      fill: #174EA6;\n",
              "    }\n",
              "\n",
              "    [theme=dark] .colab-df-convert {\n",
              "      background-color: #3B4455;\n",
              "      fill: #D2E3FC;\n",
              "    }\n",
              "\n",
              "    [theme=dark] .colab-df-convert:hover {\n",
              "      background-color: #434B5C;\n",
              "      box-shadow: 0px 1px 3px 1px rgba(0, 0, 0, 0.15);\n",
              "      filter: drop-shadow(0px 1px 2px rgba(0, 0, 0, 0.3));\n",
              "      fill: #FFFFFF;\n",
              "    }\n",
              "  </style>\n",
              "\n",
              "      <script>\n",
              "        const buttonEl =\n",
              "          document.querySelector('#df-ec58e0bd-9415-415c-9d3c-823b75833c40 button.colab-df-convert');\n",
              "        buttonEl.style.display =\n",
              "          google.colab.kernel.accessAllowed ? 'block' : 'none';\n",
              "\n",
              "        async function convertToInteractive(key) {\n",
              "          const element = document.querySelector('#df-ec58e0bd-9415-415c-9d3c-823b75833c40');\n",
              "          const dataTable =\n",
              "            await google.colab.kernel.invokeFunction('convertToInteractive',\n",
              "                                                     [key], {});\n",
              "          if (!dataTable) return;\n",
              "\n",
              "          const docLinkHtml = 'Like what you see? Visit the ' +\n",
              "            '<a target=\"_blank\" href=https://colab.research.google.com/notebooks/data_table.ipynb>data table notebook</a>'\n",
              "            + ' to learn more about interactive tables.';\n",
              "          element.innerHTML = '';\n",
              "          dataTable['output_type'] = 'display_data';\n",
              "          await google.colab.output.renderOutput(dataTable, element);\n",
              "          const docLink = document.createElement('div');\n",
              "          docLink.innerHTML = docLinkHtml;\n",
              "          element.appendChild(docLink);\n",
              "        }\n",
              "      </script>\n",
              "    </div>\n",
              "  </div>\n",
              "  "
            ]
          },
          "metadata": {},
          "execution_count": 3
        }
      ]
    },
    {
      "cell_type": "markdown",
      "metadata": {
        "id": "xCfkvzsdRePn"
      },
      "source": [
        "##Divisão do dataframe em arrays numpy (guardados em x_original e y_original)"
      ]
    },
    {
      "cell_type": "code",
      "metadata": {
        "id": "6hW52lLKmQ3U",
        "outputId": "58cacf49-8806-42e2-b267-07429c779d9c",
        "colab": {
          "base_uri": "https://localhost:8080/"
        }
      },
      "source": [
        "x_original = np.array(df_train_original.drop(columns=[\"label\"])).reshape(-1, 32, 32)\n",
        "y_original = np.array(df_train_original[\"label\"])\n",
        "print(\"x_original.shape:\", x_original.shape)\n",
        "print(\"y_original.shape:\", y_original.shape)"
      ],
      "execution_count": null,
      "outputs": [
        {
          "output_type": "stream",
          "name": "stdout",
          "text": [
            "x_original.shape: (2000, 32, 32)\n",
            "y_original.shape: (2000,)\n"
          ]
        }
      ]
    },
    {
      "cell_type": "markdown",
      "metadata": {
        "id": "50nJn2L0Rvr2"
      },
      "source": [
        "##Mostrando exemplos do dataset"
      ]
    },
    {
      "cell_type": "code",
      "metadata": {
        "id": "MmWdW-ORmwzr"
      },
      "source": [
        "def plot_exemplo(idx_ex):\n",
        "  # Imagem do exemplo.\n",
        "  x_ex = x_original[idx_ex]\n",
        "  # Classe do exemplo (ID).\n",
        "  y_ex = y_original[idx_ex]\n",
        "\n",
        "  # Exibe imagem.\n",
        "  plt.figure(figsize=(2, 2))\n",
        "  plt.imshow(x_ex, cmap=plt.cm.gray)\n",
        "  plt.axis('off')\n",
        "  plt.title(f\"Classe: {CLASSES[y_ex]}\")\n",
        "  plt.show()"
      ],
      "execution_count": null,
      "outputs": []
    },
    {
      "cell_type": "code",
      "metadata": {
        "id": "gaK-ETuam6ah",
        "outputId": "68638bb2-6c6e-44c0-bb2b-a6b0a7b86e5b",
        "colab": {
          "base_uri": "https://localhost:8080/",
          "height": 205,
          "referenced_widgets": [
            "9a0a109e7fcf45ceb6e701ea4910f587",
            "26f035083f4e47b28bdb0088887578bc",
            "6e1e1de7e3d44b1a8c259a391e4648da",
            "ace331bf13a24a4b9f02c3c0e0c498b5",
            "226070ef1fd8450ead91cdbb10c8e572",
            "ab6147d562f143cf9b044095c8103d8d",
            "f3a3ff61e3ee4859ba018adf3c3f344b"
          ]
        }
      },
      "source": [
        "idx_ex = 0\n",
        "\n",
        "interact(plot_exemplo, idx_ex=IntSlider(value=idx_ex, min=0, max=x_original.shape[0]))"
      ],
      "execution_count": null,
      "outputs": [
        {
          "output_type": "display_data",
          "data": {
            "text/plain": [
              "interactive(children=(IntSlider(value=0, description='idx_ex', max=2000), Output()), _dom_classes=('widget-int…"
            ],
            "application/vnd.jupyter.widget-view+json": {
              "version_major": 2,
              "version_minor": 0,
              "model_id": "9a0a109e7fcf45ceb6e701ea4910f587"
            }
          },
          "metadata": {}
        },
        {
          "output_type": "execute_result",
          "data": {
            "text/plain": [
              "<function __main__.plot_exemplo>"
            ]
          },
          "metadata": {},
          "execution_count": 6
        }
      ]
    },
    {
      "cell_type": "markdown",
      "metadata": {
        "id": "TlhVEHfNLGCR"
      },
      "source": [
        "# Funções para a aplicação de Regressão Logísitica"
      ]
    },
    {
      "cell_type": "markdown",
      "metadata": {
        "id": "1U8RmvswMT6I"
      },
      "source": [
        "## Regressão Logística a partir de um Dataframe Pandas - Holdout\n",
        "C_usado se refere ao atributo C de LogisticRegression."
      ]
    },
    {
      "cell_type": "code",
      "metadata": {
        "id": "qK26U5CbLS8H"
      },
      "source": [
        "def regressaoLogisticaDf(df_usado, c_usado, grau_poly):\n",
        "  x_usado = np.array(df_usado.drop(columns=[\"label\"]))\n",
        "  y_usado = np.array(df_usado[\"label\"])\n",
        "\n",
        "  x_train, x_val, y_train, y_val = train_test_split(x_usado, y_usado, test_size=0.2,\n",
        "                                                    random_state=rstateglobal)\n",
        "\n",
        "  # Normalização de atributos min-max.\n",
        "  scaler = MinMaxScaler()\n",
        "\n",
        "  # Regressor logístico.\n",
        "  clf = LogisticRegression(max_iter=100,\n",
        "                          C=c_usado)\n",
        "\n",
        "  # Cria uma lista pro pipeline.\n",
        "  listaPipeline = [(\"scaler\", scaler),\n",
        "                        (\"clf\", clf)]\n",
        "\n",
        "  if grau_poly > 0:\n",
        "    poly = PolynomialFeatures(degree=grau_poly, interaction_only=True)\n",
        "    listaPipeline.append((\"poly\", poly))\n",
        "\n",
        "  # Cria o pipeline\n",
        "  pipeline = Pipeline(listaPipeline)\n",
        "\n",
        "  # Treina modelo.\n",
        "  pipeline.fit(x_train, y_train)\n",
        "\n",
        "  y_pred = pipeline.predict(x_val)\n",
        "\n",
        "  acuracia = accuracy_score(y_val, y_pred)\n",
        "\n",
        "  print(\"Acurácia:\", acuracia)\n",
        "\n",
        "  return acuracia"
      ],
      "execution_count": null,
      "outputs": []
    },
    {
      "cell_type": "markdown",
      "metadata": {
        "id": "6Pkw3e21Mqh5"
      },
      "source": [
        "## Regressão Logística a partir de um Array Numpy - Holdout\n",
        "C_usado se refere ao atributo C de LogisticRegression."
      ]
    },
    {
      "cell_type": "code",
      "metadata": {
        "id": "C5iqL2XPMqr-"
      },
      "source": [
        "def regressaoLogisticaArray(x_usado, y_usado, grau_poly):\n",
        "  # Normalização de atributos min-max.\n",
        "  scaler = MinMaxScaler()\n",
        "\n",
        "  # Regressor logístico.\n",
        "  clf = LogisticRegression(penalty = \"none\")\n",
        "\n",
        "  # Cria o pipeline\n",
        "  if grau_poly > 0:\n",
        "    poly = PolynomialFeatures(degree=grau_poly, interaction_only=True)\n",
        "    pipeline = Pipeline([(\"scaler\", scaler),\n",
        "                       (\"poly\", poly),\n",
        "                        (\"clf\", clf)])\n",
        "  else:\n",
        "    pipeline = Pipeline([(\"scaler\", scaler),\n",
        "                        (\"clf\", clf)])\n",
        "\n",
        "  # Validação hold-out.\n",
        "  x_train, x_val, y_train, y_val = train_test_split(x_usado, y_usado, test_size=0.2, random_state=rstateglobal)\n",
        "\n",
        "  # Treina modelo.\n",
        "  pipeline.fit(x_train, y_train)\n",
        "\n",
        "  y_pred = pipeline.predict(x_val)\n",
        "\n",
        "  acuracia = accuracy_score(y_val, y_pred)\n",
        "\n",
        "  print(\"Acurácia:\", acuracia)\n",
        "\n",
        "  return acuracia"
      ],
      "execution_count": null,
      "outputs": []
    },
    {
      "cell_type": "code",
      "metadata": {
        "id": "vWSXOi8KXF_R"
      },
      "source": [
        "def regressaoLogisticaArrayCross(x_usado, y_usado, grau_poly, tam_cross):\n",
        "\n",
        "  # Normalização de atributos min-max.\n",
        "  scaler = MinMaxScaler()\n",
        "\n",
        "  # Regressor logístico.\n",
        "  clf = LogisticRegression(penalty = \"none\")\n",
        "\n",
        "  # Cria uma lista pro pipeline.\n",
        "  listaPipeline = [(\"scaler\", scaler),\n",
        "                        (\"clf\", clf)]\n",
        "\n",
        "  if grau_poly > 0:\n",
        "    poly = PolynomialFeatures(degree=grau_poly, interaction_only=True)\n",
        "    listaPipeline.append((\"poly\", poly))\n",
        "\n",
        "  # Cria o pipeline\n",
        "  pipeline = Pipeline(listaPipeline)\n",
        "\n",
        "  # Executa validação cruzada.\n",
        "  scores = cross_val_score(pipeline, x_res, y, cv=tam_cross,\n",
        "                            scoring=\"neg_mean_squared_error\")\n",
        "\n",
        "  # Inverte sinal para ficar positivo.\n",
        "  scores = -scores\n",
        "\n",
        "  print(f\"MSE: {scores.mean():.5f} (+/- {scores.std():.5f})\")"
      ],
      "execution_count": null,
      "outputs": []
    },
    {
      "cell_type": "markdown",
      "metadata": {
        "id": "cqrw3EO1ggQz"
      },
      "source": [
        "# Ideias da submissão inicial\n",
        "Na submissão inicial, foram tirados os dois pixels da borda e gerados os atributos polinomiais pelas funções \"modifica_df_lico\" e \"modifica_df_quad3x3\". Essas modificações foram salvas em um novo dataframe ao invés de um array numpy."
      ]
    },
    {
      "cell_type": "markdown",
      "metadata": {
        "id": "mSwLeQn7ie7F"
      },
      "source": [
        "## Gerando df_train_borda, sem dois pixels de borda\n",
        "Consideramos que os pixels da borda não tenham tanto efeito para o cálculo da acurácia. Portanto, geramos um outro dataset chamado df_train_borda, que não possuirá as colunas correspondentes aos pixels da borda de tamanho 2. Isto é feito através da função abaixo."
      ]
    },
    {
      "cell_type": "code",
      "metadata": {
        "id": "qHkAjdJziqYU"
      },
      "source": [
        "def modifica_df_borda(df_atual):\n",
        "\n",
        "  if'label' in df_atual.columns:\n",
        "    colstart = 1\n",
        "  else:\n",
        "    colstart = 0\n",
        "\n",
        "  #-------------------------------------------------\n",
        "  # 1. Retirando colunas da borda\n",
        "  #-------------------------------------------------\n",
        "\n",
        "  df_train_borda = df_atual\n",
        "\n",
        "  colunasDrop = []\n",
        "\n",
        "  for column in df_train_borda.columns:\n",
        "    if \"00\" in column or \"01\" in column or \"30\" in column or \"31\" in column:\n",
        "      colunasDrop.append(column)\n",
        "\n",
        "  df_train_borda = df_train_borda.drop(columns=colunasDrop)\n",
        "\n",
        "  #-------------------------------------------------\n",
        "  # 2. Renomeando colunas\n",
        "  #-------------------------------------------------\n",
        "\n",
        "  tam = int(math.sqrt(df_train_borda.shape[1] - colstart))\n",
        "\n",
        "  nomescolnovo = []\n",
        "\n",
        "  if colstart == 1:\n",
        "    nomescolnovo.append('label')\n",
        "\n",
        "  for i in range(tam):\n",
        "    for j in range(tam):\n",
        "      nomescolnovo.append('p_' + str(i).zfill(2) + '_' + str(j).zfill(2))\n",
        "\n",
        "  df_train_borda.columns = nomescolnovo\n",
        "\n",
        "  return df_train_borda"
      ],
      "execution_count": null,
      "outputs": []
    },
    {
      "cell_type": "markdown",
      "metadata": {
        "id": "awXtGwfVkSjo"
      },
      "source": [
        "* Abaixo, a visualização das imagens sem a borda:"
      ]
    },
    {
      "cell_type": "code",
      "metadata": {
        "id": "5ELy9_RFkYT9",
        "outputId": "3a9195aa-aa0a-45cc-8be3-bb107d7f0b8d",
        "colab": {
          "base_uri": "https://localhost:8080/"
        }
      },
      "source": [
        "df_train_borda = modifica_df_borda(df_train_original)\n",
        "\n",
        "x_borda = np.array(df_train_borda.drop(columns=[\"label\"])).reshape(-1, 28, 28)\n",
        "y_borda = np.array(df_train_borda[\"label\"])\n",
        "print(\"x_2.shape:\", x_borda.shape)\n",
        "print(\"y_2.shape:\", y_borda.shape)"
      ],
      "execution_count": null,
      "outputs": [
        {
          "output_type": "stream",
          "name": "stdout",
          "text": [
            "x_2.shape: (2000, 28, 28)\n",
            "y_2.shape: (2000,)\n"
          ]
        }
      ]
    },
    {
      "cell_type": "code",
      "metadata": {
        "id": "TD6ifW30k1Vg"
      },
      "source": [
        "def plot_exemplo_2(idx_ex):\n",
        "  # Imagem do exemplo.\n",
        "  x_ex = x_borda[idx_ex]\n",
        "  # Classe do exemplo (ID).\n",
        "  y_ex = y_borda[idx_ex]\n",
        "\n",
        "  # Exibe imagem.\n",
        "  plt.figure(figsize=(2, 2))\n",
        "  plt.imshow(x_ex, cmap=plt.cm.gray)\n",
        "  plt.axis('off')\n",
        "  plt.title(f\"Classe: {CLASSES[y_ex]}\")\n",
        "  plt.show()"
      ],
      "execution_count": null,
      "outputs": []
    },
    {
      "cell_type": "code",
      "metadata": {
        "id": "5nFPapNMk3WW",
        "outputId": "e8e449b3-17a7-4ea7-c0e5-96d94dcb22b9",
        "colab": {
          "base_uri": "https://localhost:8080/",
          "height": 205,
          "referenced_widgets": [
            "6b4110e8b7fa4626bf9b692713d17228",
            "219ed31190654a10bd17d69eb4ba3482",
            "8c57633fb5a14bbd8253c99c2a3330f9",
            "5591e416bf93493db15cb6e4b658716b",
            "41f9b765317841009bd33895bafacc2d",
            "53f7b822a0554ca6aed0ba744b4789ef",
            "a810e39559f64d37b528b9fb9cce4014"
          ]
        }
      },
      "source": [
        "idx_ex = 0\n",
        "\n",
        "interact(plot_exemplo_2, idx_ex=IntSlider(value=idx_ex, min=0, max=x_borda.shape[0]))"
      ],
      "execution_count": null,
      "outputs": [
        {
          "output_type": "display_data",
          "data": {
            "text/plain": [
              "interactive(children=(IntSlider(value=0, description='idx_ex', max=2000), Output()), _dom_classes=('widget-int…"
            ],
            "application/vnd.jupyter.widget-view+json": {
              "version_major": 2,
              "version_minor": 0,
              "model_id": "6b4110e8b7fa4626bf9b692713d17228"
            }
          },
          "metadata": {}
        },
        {
          "output_type": "execute_result",
          "data": {
            "text/plain": [
              "<function __main__.plot_exemplo_2>"
            ]
          },
          "metadata": {},
          "execution_count": 13
        }
      ]
    },
    {
      "cell_type": "markdown",
      "metadata": {
        "id": "gillWMYTiQ_y"
      },
      "source": [
        "## Atributos polinomiais"
      ]
    },
    {
      "cell_type": "markdown",
      "metadata": {
        "id": "vANYjtcriYfT"
      },
      "source": [
        "### **Quadrado 3x3**\n",
        "Calcula-se a multiplicação dos valores (divididos por 255 e somados em 0.3) de todos os quadrados 3x3 possíveis. O valor 0.3 foi obtido experimentalmente. \\\\\n",
        "Como a malha é de 28 pixels, existem 26x26 quadrados 3x3 possíveis. \\\\\n",
        "Cria-se colunas com nome \"ele_x_y\", que devem armazenar o valor do quadrado 3x3 com canto superior esquerdo em (x, y)."
      ]
    },
    {
      "cell_type": "markdown",
      "metadata": {
        "id": "0qVNen2Fj8s3"
      },
      "source": [
        "* Primeiramente, definimos uma função para cálculo do valor em \"ele_x_y\""
      ]
    },
    {
      "cell_type": "code",
      "metadata": {
        "id": "WXmDciFviLC8"
      },
      "source": [
        "def calcvaldf3x3(df_atual, inst, li, co):\n",
        "  val = 1\n",
        "\n",
        "  for i in range(3):\n",
        "    for j in range(3):\n",
        "      val*=df_atual.at[inst, 'p_' + str(li + i).zfill(2) + '_' + str(co + j).zfill(2)]/255 + 0.3\n",
        "  return val"
      ],
      "execution_count": null,
      "outputs": []
    },
    {
      "cell_type": "markdown",
      "metadata": {
        "id": "I8oOEpckj9oy"
      },
      "source": [
        "* Assim, podemos modificar o dataframe através da função abaixo."
      ]
    },
    {
      "cell_type": "code",
      "metadata": {
        "id": "G_0ZfV9Wibb0"
      },
      "source": [
        "def modifica_df_quad3x3(df_atual):\n",
        "  #---------------------------------------------------\n",
        "  # 1. Obtendo nomes novos das colunas (listanome3x3)\n",
        "  #---------------------------------------------------\n",
        "\n",
        "  tam = int(math.sqrt(df_atual.shape[1] - 1))\n",
        "\n",
        "  listanome3x3 = []\n",
        "\n",
        "  for i in range(tam - 2):\n",
        "    for j in range(tam - 2):\n",
        "      listanome3x3.append(\"ele_\"+str(i).zfill(2)+\"_\"+str(j).zfill(2))\n",
        "\n",
        "\n",
        "  #--------------------------------------------------------------------\n",
        "  # 2. Obtendo lista3x3, que possui todos os valores dos quadrados 3x3\n",
        "  #--------------------------------------------------------------------\n",
        "\n",
        "  inst = df_atual.shape[0]\n",
        "\n",
        "  lista3x3 = []\n",
        "\n",
        "  for i in range(inst):\n",
        "    lista3x3aux = []\n",
        "\n",
        "    for j in range(tam - 2):\n",
        "      for k in range(tam - 2):\n",
        "        valor = calcvaldf3x3(df_atual, i, j, k)\n",
        "        lista3x3aux.append(valor)\n",
        "\n",
        "    lista3x3.append(lista3x3aux)\n",
        "\n",
        "  #-------------------------------\n",
        "  # 3. Concatenando os dataframes\n",
        "  #-------------------------------\n",
        "\n",
        "  df_3x3 = pd.DataFrame(lista3x3, columns = listanome3x3)\n",
        "  df_ret = pd.concat([df_atual, df_3x3], axis=1)\n",
        "\n",
        "  return df_ret"
      ],
      "execution_count": null,
      "outputs": []
    },
    {
      "cell_type": "markdown",
      "metadata": {
        "id": "-XXYI5FQi6ic"
      },
      "source": [
        "### Multiplicação dos valores das linhas e colunas\n",
        "\n",
        "Estes atributos são gerados multiplicando, pra cada linha e coluna, os valores dos elementos divididos por 255 e acrescentados em 1. Esta mudança nos valores foi necessária para não gerar atributos com valores muito grandes."
      ]
    },
    {
      "cell_type": "code",
      "metadata": {
        "id": "s4Gy72jkkGkq"
      },
      "source": [
        "def modifica_df_lico(df_atual):\n",
        "  # colstart usado para não modificar os valores em label\n",
        "\n",
        "  if'label' in df_atual.columns:\n",
        "    colstart = 1\n",
        "  else:\n",
        "    colstart = 0\n",
        "\n",
        "  #-------------------------------------------------\n",
        "  # 1. Obtendo nomes das novas colunas do dataframe\n",
        "  #-------------------------------------------------\n",
        "\n",
        "  tam = int(math.sqrt(df_atual.shape[1] - colstart))\n",
        "\n",
        "  dictli = {}\n",
        "  dictcol = {}\n",
        "\n",
        "  for i in range(tam):\n",
        "    dictli[i] = 1\n",
        "    dictcol[i] = 1\n",
        "\n",
        "  nomesnovos1 = []\n",
        "  nomesnovos2 = []\n",
        "\n",
        "  for i in range(tam):\n",
        "    nomesnovos1.append('lin_' + str(i).zfill(2))\n",
        "    nomesnovos2.append('col_' + str(i).zfill(2))\n",
        "\n",
        "\n",
        "  #--------------------------------------------------------------------------\n",
        "  # 2. Obtendo listalinhas e listacolunas\n",
        "  #     listalinhas e listacolunas são listas de listas,\n",
        "  #     e serão posteriormente parâmetros para criação de um novo dataframe\n",
        "  #--------------------------------------------------------------------------\n",
        "\n",
        "  colaux = df_atual.columns[colstart:]\n",
        "\n",
        "  inst = df_atual.shape[0]\n",
        "\n",
        "  listalinhas = []\n",
        "  listacolunas = []\n",
        "\n",
        "  for i in range(inst):\n",
        "    multtodos = 1\n",
        "\n",
        "    for column in colaux:\n",
        "      li = column[2:4]\n",
        "      col = column[5:]\n",
        "      val = df_atual[column][i]/255 + 1\n",
        "\n",
        "      dictli[int(li)] *= val\n",
        "      dictcol[int(col)] *= val\n",
        "\n",
        "    listaliaux = []\n",
        "    listacolaux = []\n",
        "\n",
        "    for aux in list(dictli.items()):\n",
        "      listaliaux.append(aux[1])\n",
        "\n",
        "    for aux in list(dictcol.items()):\n",
        "      listacolaux.append(aux[1])\n",
        "    \n",
        "    listalinhas.append(listaliaux)\n",
        "    listacolunas.append(listacolaux)\n",
        "\n",
        "    for i in range(tam):\n",
        "      dictli[i] = 1\n",
        "      dictcol[i] = 1\n",
        "\n",
        "  #-----------------------------\n",
        "  # 3. Concatenando o dataframe\n",
        "  #-----------------------------\n",
        "\n",
        "  df_linhas = pd.DataFrame(listalinhas, columns = nomesnovos1)\n",
        "  df_colunas = pd.DataFrame(listacolunas, columns = nomesnovos2)\n",
        "\n",
        "  df_ret = pd.concat([df_atual, df_linhas, df_colunas], axis=1)\n",
        "\n",
        "  return df_ret"
      ],
      "execution_count": null,
      "outputs": []
    },
    {
      "cell_type": "markdown",
      "metadata": {
        "id": "zaK3b4a-pXT_"
      },
      "source": [
        "## Aplicando regressão logística em df_train_original (32x32)\n",
        "Foi passado o parâmetro para o Logistic Regression C = 0.006 para o Logistic Regression, obtido através de testes."
      ]
    },
    {
      "cell_type": "code",
      "metadata": {
        "id": "Tg0Ia58NPo5m",
        "outputId": "7edbd60c-9d8a-4485-f2c0-4cc3cd4f3f57",
        "colab": {
          "base_uri": "https://localhost:8080/"
        }
      },
      "source": [
        "regressaoLogisticaDf(df_train_original, 0.006, 0)"
      ],
      "execution_count": null,
      "outputs": [
        {
          "output_type": "stream",
          "name": "stdout",
          "text": [
            "Acurácia: 0.285\n"
          ]
        },
        {
          "output_type": "execute_result",
          "data": {
            "text/plain": [
              "0.285"
            ]
          },
          "metadata": {},
          "execution_count": 17
        }
      ]
    },
    {
      "cell_type": "markdown",
      "metadata": {
        "id": "tPsuEzmzmY0L"
      },
      "source": [
        "## Modificando e aplicando regressão logística em df_train (32x32)\n",
        "Em df_train foram aplicados os atributos polinomiais, porém a borda foi mantida.\n",
        "\n",
        "Foi passado o parâmetro para o Logistic Regression C = 0.006 para o Logistic Regression, obtido através de testes."
      ]
    },
    {
      "cell_type": "code",
      "metadata": {
        "id": "sfi9clcRp8Wk",
        "outputId": "a52ccde9-2154-4170-89a3-434f7ed94788",
        "colab": {
          "base_uri": "https://localhost:8080/"
        }
      },
      "source": [
        "df_train        = modifica_df_lico(df_train_original)\n",
        "df_train.shape"
      ],
      "execution_count": null,
      "outputs": [
        {
          "output_type": "execute_result",
          "data": {
            "text/plain": [
              "(2000, 1089)"
            ]
          },
          "metadata": {},
          "execution_count": 18
        }
      ]
    },
    {
      "cell_type": "code",
      "metadata": {
        "id": "VKZR5dZBp_XH",
        "outputId": "40853ecc-b20e-4387-c787-f4dd8bc36bc7",
        "colab": {
          "base_uri": "https://localhost:8080/"
        }
      },
      "source": [
        "df_train        = modifica_df_quad3x3(df_train)\n",
        "df_train.shape"
      ],
      "execution_count": null,
      "outputs": [
        {
          "output_type": "execute_result",
          "data": {
            "text/plain": [
              "(2000, 1989)"
            ]
          },
          "metadata": {},
          "execution_count": 19
        }
      ]
    },
    {
      "cell_type": "code",
      "metadata": {
        "id": "1dqxOrgEP1Ke",
        "outputId": "063c0a9a-67b5-468e-b166-d2f9b9c10cc3",
        "colab": {
          "base_uri": "https://localhost:8080/"
        }
      },
      "source": [
        "regressaoLogisticaDf(df_train, 0.006, 0)"
      ],
      "execution_count": null,
      "outputs": [
        {
          "output_type": "stream",
          "name": "stdout",
          "text": [
            "Acurácia: 0.305\n"
          ]
        },
        {
          "output_type": "execute_result",
          "data": {
            "text/plain": [
              "0.305"
            ]
          },
          "metadata": {},
          "execution_count": 20
        }
      ]
    },
    {
      "cell_type": "markdown",
      "metadata": {
        "id": "XvoQu5SjobZv"
      },
      "source": [
        "## Modificando e aplicando regressão logística em df_train_borda (28x28)\n",
        "Em df_train_borda foram aplicados os atributos polinomiais e a borda não foi mantida.\n",
        "\n",
        "Foi passado o parâmetro para o Logistic Regression C = 0.006 para o Logistic Regression, obtido através de testes."
      ]
    },
    {
      "cell_type": "code",
      "metadata": {
        "id": "pucchxKZqHae",
        "outputId": "80d37467-702a-4a4d-e0ad-e49aca96d438",
        "colab": {
          "base_uri": "https://localhost:8080/"
        }
      },
      "source": [
        "df_train_borda  = modifica_df_lico(df_train_borda)\n",
        "df_train_borda.shape"
      ],
      "execution_count": null,
      "outputs": [
        {
          "output_type": "execute_result",
          "data": {
            "text/plain": [
              "(2000, 841)"
            ]
          },
          "metadata": {},
          "execution_count": 21
        }
      ]
    },
    {
      "cell_type": "code",
      "metadata": {
        "id": "9RSziIlVqG9J",
        "outputId": "f575880b-b6ad-4c1f-8782-6a6715b55f87",
        "colab": {
          "base_uri": "https://localhost:8080/"
        }
      },
      "source": [
        "df_train_borda  = modifica_df_quad3x3(df_train_borda)\n",
        "df_train_borda.shape"
      ],
      "execution_count": null,
      "outputs": [
        {
          "output_type": "execute_result",
          "data": {
            "text/plain": [
              "(2000, 1517)"
            ]
          },
          "metadata": {},
          "execution_count": 22
        }
      ]
    },
    {
      "cell_type": "code",
      "metadata": {
        "id": "d5-AKGzGP458",
        "outputId": "66597cab-2142-4e14-a176-cc389e9fd188",
        "colab": {
          "base_uri": "https://localhost:8080/"
        }
      },
      "source": [
        "regressaoLogisticaDf(df_train_borda, 0.006, 0)"
      ],
      "execution_count": null,
      "outputs": [
        {
          "output_type": "stream",
          "name": "stdout",
          "text": [
            "Acurácia: 0.3\n"
          ]
        },
        {
          "output_type": "execute_result",
          "data": {
            "text/plain": [
              "0.3"
            ]
          },
          "metadata": {},
          "execution_count": 23
        }
      ]
    },
    {
      "cell_type": "markdown",
      "metadata": {
        "id": "FXNjkMl8oy5s"
      },
      "source": [
        "## Conclusões\n",
        "Como o valor da acurácia não variou tanto, concluiu-se que os dois pixels da borda não são tão importantes na obtenção da acurácia. \\\\\n",
        "Além disso, conclui-se que os métodos tentados para gerar novos atributos polinomiais, apesar de aumentarem um pouco a acurácia, são muito ineficientes. "
      ]
    },
    {
      "cell_type": "markdown",
      "metadata": {
        "id": "kr03ICyJt0x3"
      },
      "source": [
        "# Ideias da submissão preliminar\n",
        "Para a submissão preliminar, foram usadas, além da modificação de tirar a borda e a dos quadrados 3x3 anteriores, três novas modificações que tentam \"desenhar\" formas no desenho: linhas 5x1, linhas 1x5 e quadrados 2x2. \\\\\n",
        "\n",
        "Além disso, tentou-se usar um método que atribuía pesos maiores para pixels mais centrais."
      ]
    },
    {
      "cell_type": "markdown",
      "metadata": {
        "id": "J6Zs8V9QFVOJ"
      },
      "source": [
        "## Atributos polinomiais"
      ]
    },
    {
      "cell_type": "markdown",
      "metadata": {
        "id": "8zfVBrSqFVuj"
      },
      "source": [
        "### Quadrados 2x2\n",
        "Analogamente ao quadrado 3x3, definimos uma função para calcular o valor em \"quad2_x_y\""
      ]
    },
    {
      "cell_type": "code",
      "metadata": {
        "id": "xCVBzRNVGM-i"
      },
      "source": [
        "def calcval2x2(df_atual, inst, li, co):\n",
        "  val = 1\n",
        "\n",
        "  for i in range(2):\n",
        "    for j in range(2):\n",
        "      val*=(df_atual.at[inst, 'p_' + str(li + i).zfill(2) + '_' + str(co + j).zfill(2)]/255 + 0.3)\n",
        "  return val"
      ],
      "execution_count": null,
      "outputs": []
    },
    {
      "cell_type": "code",
      "metadata": {
        "id": "zCkoSyjmGPAI"
      },
      "source": [
        "def modifica_df_quad2x2(df_atual, tam):\n",
        "  #---------------------------------------------------\n",
        "  # 1. Obtendo nomes novos das colunas (listanome2x2)\n",
        "  #---------------------------------------------------\n",
        "\n",
        "  listanome2x2 = []\n",
        "\n",
        "  for i in range(tam - 1):\n",
        "    for j in range(tam - 1):\n",
        "      listanome2x2.append(\"quad10_\"+str(i).zfill(2)+\"_\"+str(j).zfill(2))\n",
        "\n",
        "\n",
        "  #--------------------------------------------------------------------\n",
        "  # 2. Obtendo lista2x2, que possui todos os valores dos quadrados 2x2\n",
        "  #--------------------------------------------------------------------\n",
        "\n",
        "  inst = df_atual.shape[0]\n",
        "\n",
        "  lista2x2 = []\n",
        "\n",
        "  for i in range(inst):\n",
        "    lista2x2aux = []\n",
        "\n",
        "    for j in range(tam - 1):\n",
        "      for k in range(tam - 1):\n",
        "        valor = calcval2x2(df_atual, i, j, k)\n",
        "        lista2x2aux.append(valor)\n",
        "\n",
        "    lista2x2.append(lista2x2aux)\n",
        "\n",
        "  #-------------------------------\n",
        "  # 3. Concatenando os dataframes\n",
        "  #-------------------------------\n",
        "\n",
        "  df_2x2 = pd.DataFrame(lista2x2, columns = listanome2x2)\n",
        "  df_ret = pd.concat([df_atual, df_2x2], axis=1)\n",
        "\n",
        "  return df_ret"
      ],
      "execution_count": null,
      "outputs": []
    },
    {
      "cell_type": "markdown",
      "metadata": {
        "id": "rXR0AfmhGQv9"
      },
      "source": [
        "### Linhas 1x5\n",
        "Definimos uma função para calcular o valor em \"li1x5_x_y\""
      ]
    },
    {
      "cell_type": "code",
      "metadata": {
        "id": "u9psPjLKGTAK"
      },
      "source": [
        "def calcval1x5(df_atual, inst, li, co):\n",
        "  val = 1\n",
        "\n",
        "  for i in range(5):\n",
        "    val*=(df_atual.at[inst, 'p_' + str(li).zfill(2) + '_' + str(i + co).zfill(2)]/255)\n",
        "  return val"
      ],
      "execution_count": null,
      "outputs": []
    },
    {
      "cell_type": "markdown",
      "metadata": {
        "id": "4lFBKQQsGVGG"
      },
      "source": [
        "Assim, podemos modificar o dataframe através da função abaixo."
      ]
    },
    {
      "cell_type": "code",
      "metadata": {
        "id": "u0EoZYM2GVhp"
      },
      "source": [
        "def modifica_df_linha1x5(df_atual, tam):\n",
        "  #---------------------------------------------------\n",
        "  # 1. Obtendo nomes novos das colunas (listanome1x5)\n",
        "  #---------------------------------------------------\n",
        "\n",
        "  listanome1x5 = []\n",
        "\n",
        "  for i in range(tam):\n",
        "    for j in range(tam - 4):\n",
        "      listanome1x5.append(\"li1x5_\"+str(i).zfill(2)+\"_\"+str(j).zfill(2))\n",
        "\n",
        "\n",
        "  #--------------------------------------------------------------------\n",
        "  # 2. Obtendo lista3x3, que possui todos os valores dos quadrados 3x3\n",
        "  #--------------------------------------------------------------------\n",
        "\n",
        "  inst = df_atual.shape[0]\n",
        "\n",
        "  lista1x5 = []\n",
        "\n",
        "  for i in range(inst):\n",
        "    lista1x5aux = []\n",
        "\n",
        "    for j in range(tam):\n",
        "      for k in range(tam - 4):\n",
        "        valor = calcval1x5(df_atual, i, j, k)\n",
        "        lista1x5aux.append(valor)\n",
        "\n",
        "    lista1x5.append(lista1x5aux)\n",
        "\n",
        "  #-------------------------------\n",
        "  # 3. Concatenando os dataframes\n",
        "  #-------------------------------\n",
        "\n",
        "  df_1x5 = pd.DataFrame(lista1x5, columns = listanome1x5)\n",
        "  df_ret = pd.concat([df_atual, df_1x5], axis=1)\n",
        "\n",
        "  return df_ret"
      ],
      "execution_count": null,
      "outputs": []
    },
    {
      "cell_type": "markdown",
      "metadata": {
        "id": "hc28QZP4GYEV"
      },
      "source": [
        "### Linhas 5x1"
      ]
    },
    {
      "cell_type": "markdown",
      "metadata": {
        "id": "fX5tBsDtGaS7"
      },
      "source": [
        "Definimos uma função para calcular o valor em \"li5x1_x_y\""
      ]
    },
    {
      "cell_type": "code",
      "metadata": {
        "id": "HY5zIiDzGb3O"
      },
      "source": [
        "def calcval5x1(df_atual, inst, li, co):\n",
        "  val = 1\n",
        "\n",
        "  for i in range(5):\n",
        "    val*=(df_atual.at[inst, 'p_' + str(i + li).zfill(2) + '_' + str(co).zfill(2)]/255)\n",
        "  return val"
      ],
      "execution_count": null,
      "outputs": []
    },
    {
      "cell_type": "markdown",
      "metadata": {
        "id": "CpglI07kGeuG"
      },
      "source": [
        "Assim, podemos modificar o dataframe através da função abaixo."
      ]
    },
    {
      "cell_type": "code",
      "metadata": {
        "id": "RUOYd3hmGfKM"
      },
      "source": [
        "def modifica_df_linha5x1(df_atual, tam):\n",
        "  #---------------------------------------------------\n",
        "  # 1. Obtendo nomes novos das colunas (listanome5x1)\n",
        "  #---------------------------------------------------\n",
        "\n",
        "  listanome5x1 = []\n",
        "\n",
        "  for i in range(tam - 4):\n",
        "    for j in range(tam):\n",
        "      listanome5x1.append(\"li5x1_\"+str(i).zfill(2)+\"_\"+str(j).zfill(2))\n",
        "\n",
        "\n",
        "  #--------------------------------------------------------------------\n",
        "  # 2. Obtendo lista3x3, que possui todos os valores dos quadrados 3x3\n",
        "  #--------------------------------------------------------------------\n",
        "\n",
        "  inst = df_atual.shape[0]\n",
        "\n",
        "  lista5x1 = []\n",
        "\n",
        "  for i in range(inst):\n",
        "    lista5x1aux = []\n",
        "\n",
        "    for j in range(tam - 4):\n",
        "      for k in range(tam):\n",
        "        valor = calcval5x1(df_atual, i, j, k)\n",
        "        lista5x1aux.append(valor)\n",
        "\n",
        "    lista5x1.append(lista5x1aux)\n",
        "\n",
        "  #-------------------------------\n",
        "  # 3. Concatenando os dataframes\n",
        "  #-------------------------------\n",
        "\n",
        "  df_5x1 = pd.DataFrame(lista5x1, columns = listanome5x1)\n",
        "  df_ret = pd.concat([df_atual, df_5x1], axis=1)\n",
        "\n",
        "  return df_ret"
      ],
      "execution_count": null,
      "outputs": []
    },
    {
      "cell_type": "markdown",
      "metadata": {
        "id": "tiF2nx74GoiD"
      },
      "source": [
        "### Atribuição de pesos aos pixels\n",
        "Nestes atributos, o valor do pixel é multiplicado pela subtração entre tam e sua distância até o centro (em percentual). \\\\\n",
        "\n",
        "O valor do pixel foi multiplicado assim pois consideramos que pixels mais centrais possuem maior importância."
      ]
    },
    {
      "cell_type": "code",
      "metadata": {
        "id": "zc-dNPk1G26v"
      },
      "source": [
        "def modifica_df_distancias(df_atual, tam):\n",
        "  #---------------------------------------------------\n",
        "  # 1. Obtendo nomes novos das colunas (listanomedist)\n",
        "  #---------------------------------------------------\n",
        "\n",
        "  if'label' in df_atual.columns:\n",
        "    colstart = 1\n",
        "  else:\n",
        "    colstart = 0\n",
        "    \n",
        "  listanomedist = []\n",
        "\n",
        "  for i in range(tam):\n",
        "    for j in range(tam):\n",
        "      listanomedist.append(\"dist_\"+str(i).zfill(2)+\"_\"+str(j).zfill(2))\n",
        "\n",
        "\n",
        "  #-----------------------------------------------------------------------\n",
        "  # 2. Obtendo listadist, que possui todos os valores dos novos atributos\n",
        "  #-----------------------------------------------------------------------\n",
        "\n",
        "  inst = df_atual.shape[0]\n",
        "\n",
        "  listadist = []\n",
        "  maxdist = tam * math.sqrt(2)/2;\n",
        "\n",
        "  for i in range(inst):\n",
        "    listadistaux = []\n",
        "\n",
        "    for j in range(tam):\n",
        "      for k in range(tam):\n",
        "        valor = df_atual.at[i, 'p_' + str(j).zfill(2) + '_' + str(k).zfill(2)]\n",
        "        distx = abs(tam//2 - k)\n",
        "        disty = abs(tam//2 - j)\n",
        "\n",
        "        disttotal = math.sqrt(distx * distx + disty * disty)\n",
        "        valor = valor/(disttotal*disttotal+1)\n",
        "\n",
        "        listadistaux.append(valor)\n",
        "    listadist.append(listadistaux)\n",
        "\n",
        "  #-------------------------------\n",
        "  # 3. Concatenando os dataframes\n",
        "  #-------------------------------\n",
        "\n",
        "  df_dist = pd.DataFrame(listadist, columns = listanomedist)\n",
        "  df_ret = pd.concat([df_atual, df_dist], axis=1)\n",
        "\n",
        "  return df_ret"
      ],
      "execution_count": null,
      "outputs": []
    },
    {
      "cell_type": "markdown",
      "metadata": {
        "id": "oULH9bIXHK2C"
      },
      "source": [
        "## Modificando e aplicando regressão logística em df_train_borda (28x28)"
      ]
    },
    {
      "cell_type": "code",
      "metadata": {
        "id": "El3g0Vs3HXZM",
        "outputId": "23c51e8b-7f34-49b0-b63a-0fd3d9a17f6c",
        "colab": {
          "base_uri": "https://localhost:8080/"
        }
      },
      "source": [
        "df_train_borda = modifica_df_borda(df_train_original)\n",
        "df_train_borda.shape"
      ],
      "execution_count": null,
      "outputs": [
        {
          "output_type": "execute_result",
          "data": {
            "text/plain": [
              "(2000, 785)"
            ]
          },
          "metadata": {},
          "execution_count": 31
        }
      ]
    },
    {
      "cell_type": "code",
      "metadata": {
        "id": "XIQXNCqwHg1o",
        "outputId": "782117fc-1f87-4f67-98d7-58d2517f9e0a",
        "colab": {
          "base_uri": "https://localhost:8080/"
        }
      },
      "source": [
        "df_train_borda = modifica_df_quad3x3(df_train_borda)\n",
        "df_train_borda.shape"
      ],
      "execution_count": null,
      "outputs": [
        {
          "output_type": "execute_result",
          "data": {
            "text/plain": [
              "(2000, 1461)"
            ]
          },
          "metadata": {},
          "execution_count": 32
        }
      ]
    },
    {
      "cell_type": "code",
      "metadata": {
        "id": "dTqikK-IHia1",
        "outputId": "053b5f46-4c6b-419a-fa58-9ecf6c16cd89",
        "colab": {
          "base_uri": "https://localhost:8080/"
        }
      },
      "source": [
        "df_train_borda = modifica_df_quad2x2(df_train_borda, 28)\n",
        "df_train_borda.shape"
      ],
      "execution_count": null,
      "outputs": [
        {
          "output_type": "execute_result",
          "data": {
            "text/plain": [
              "(2000, 2190)"
            ]
          },
          "metadata": {},
          "execution_count": 33
        }
      ]
    },
    {
      "cell_type": "code",
      "metadata": {
        "id": "i7omWNv8HizZ",
        "outputId": "f5538353-85c4-4749-e6c2-9ff31cc432c7",
        "colab": {
          "base_uri": "https://localhost:8080/"
        }
      },
      "source": [
        "df_train_borda = modifica_df_linha1x5(df_train_borda, 28)\n",
        "df_train_borda.shape"
      ],
      "execution_count": null,
      "outputs": [
        {
          "output_type": "execute_result",
          "data": {
            "text/plain": [
              "(2000, 2862)"
            ]
          },
          "metadata": {},
          "execution_count": 34
        }
      ]
    },
    {
      "cell_type": "code",
      "metadata": {
        "id": "S06fYaqFIAk9",
        "outputId": "155a7f5d-7532-4af0-d196-5e9cdfd3e370",
        "colab": {
          "base_uri": "https://localhost:8080/"
        }
      },
      "source": [
        "df_train_borda = modifica_df_linha5x1(df_train_borda, 28)\n",
        "df_train_borda.shape"
      ],
      "execution_count": null,
      "outputs": [
        {
          "output_type": "execute_result",
          "data": {
            "text/plain": [
              "(2000, 3534)"
            ]
          },
          "metadata": {},
          "execution_count": 35
        }
      ]
    },
    {
      "cell_type": "code",
      "metadata": {
        "id": "x3hnBgxdIF_B",
        "outputId": "d39b0cc0-9088-4a17-8516-56415a88c3e7",
        "colab": {
          "base_uri": "https://localhost:8080/"
        }
      },
      "source": [
        "df_train_borda = modifica_df_distancias(df_train_borda, 28)\n",
        "df_train_borda.shape"
      ],
      "execution_count": null,
      "outputs": [
        {
          "output_type": "execute_result",
          "data": {
            "text/plain": [
              "(2000, 4318)"
            ]
          },
          "metadata": {},
          "execution_count": 36
        }
      ]
    },
    {
      "cell_type": "code",
      "metadata": {
        "id": "GbQGGwQyIcVI",
        "outputId": "dd5894e5-b8b0-4740-d7a3-39817cacb349",
        "colab": {
          "base_uri": "https://localhost:8080/"
        }
      },
      "source": [
        "regressaoLogisticaDf(df_train_borda, 0.006, 0)"
      ],
      "execution_count": null,
      "outputs": [
        {
          "output_type": "stream",
          "name": "stdout",
          "text": [
            "Acurácia: 0.3225\n"
          ]
        },
        {
          "output_type": "execute_result",
          "data": {
            "text/plain": [
              "0.3225"
            ]
          },
          "metadata": {},
          "execution_count": 37
        }
      ]
    },
    {
      "cell_type": "markdown",
      "metadata": {
        "id": "km-y_9VNSugN"
      },
      "source": [
        "## Conclusões\n",
        "Novamente, conseguimos aumentar um pouco a acurácia ao usar mais atributos polinomiais. Porém, o processo é ainda muito ineficiente, pois demora muito para gerá-los. Além disso, hipotetizou-se que a demora é, em parte, devido ao manuseio dos dados em forma de dataframes, e que seria mais rápido se fossem manuseados como Arrays Numpy."
      ]
    },
    {
      "cell_type": "markdown",
      "metadata": {
        "id": "nTC-7bbvTf1_"
      },
      "source": [
        "# Ideias da submissão final\n",
        "\n",
        "Para esta submissão, foram usados atributos baseados em filtros, com base na teoria de convolução e pooling."
      ]
    },
    {
      "cell_type": "markdown",
      "metadata": {
        "id": "VozFIoxtZG4P"
      },
      "source": [
        "## Funções usadas"
      ]
    },
    {
      "cell_type": "markdown",
      "metadata": {
        "id": "8lVNaa4FStj2"
      },
      "source": [
        "### Funções de convolução"
      ]
    },
    {
      "cell_type": "code",
      "metadata": {
        "id": "Aoefjti1UxAV"
      },
      "source": [
        "def imgs_conv(imgs, filtro, stride=1):\n",
        "  '''\n",
        "  Aplica o filtro 'filtro' nas imagens 'imgs' usando o stride dado.\n",
        "\n",
        "  img.shape -> (num_imagens, num_rows, num_cols)\n",
        "  '''\n",
        "  # Tamanho do filtro.\n",
        "  f_rows = filtro.shape[0]\n",
        "  f_cols = filtro.shape[1]\n",
        "\n",
        "  # Tamanho da imagem resultante.\n",
        "  num_imgs = imgs.shape[0]\n",
        "  num_rows = ((imgs.shape[1] - f_rows) // stride) + 1\n",
        "  num_cols = ((imgs.shape[2] - f_cols) // stride) + 1\n",
        "\n",
        "  # Resultado da convolução.\n",
        "  res = np.zeros((num_imgs, num_rows, num_cols))\n",
        "\n",
        "  # Aplica filtro em cada posição da imagem.\n",
        "  for row in range(num_rows):\n",
        "    for col in range(num_cols):\n",
        "      r = row*stride\n",
        "      c = col*stride\n",
        "      res[:,row,col] = np.multiply(filtro, imgs[:,r:r+f_rows,c:c+f_cols]).sum(axis=(1,2))\n",
        "  \n",
        "  return res"
      ],
      "execution_count": null,
      "outputs": []
    },
    {
      "cell_type": "code",
      "metadata": {
        "id": "R2cmeixnZZ_5"
      },
      "source": [
        "def imgs_conv_multi(imgs, filtros, stride=1):\n",
        "  '''\n",
        "  Aplica uma lista de filtros nas imagens dadas. Filtros devem ser de mesmo tamanho.\n",
        "  '''\n",
        "  res = []\n",
        "  for filtro in filtros:\n",
        "    res.append(imgs_conv(imgs, filtro, stride))\n",
        "  return np.stack(res).mean(axis=0)"
      ],
      "execution_count": null,
      "outputs": []
    },
    {
      "cell_type": "markdown",
      "metadata": {
        "id": "KBAnyD61SwMw"
      },
      "source": [
        "### Funções de pooling"
      ]
    },
    {
      "cell_type": "code",
      "metadata": {
        "id": "_qeIoBzYSzdw"
      },
      "source": [
        "def imgs_pool(imgs, size=8, stride=8):\n",
        "  '''\n",
        "  Aplica mean-pooling nas imagens dadas usadas o tamanho (size) e o stride dados.\n",
        "  '''\n",
        "  # Tamanho da imagem resultante.\n",
        "  num_imgs = imgs.shape[0]\n",
        "  num_rows = ((imgs.shape[1] - size) // stride) + 1\n",
        "  num_cols = ((imgs.shape[2] - size) // stride) + 1\n",
        "\n",
        "  # Resultado do pooling.\n",
        "  res = np.zeros((num_imgs, num_rows, num_cols))\n",
        "\n",
        "  # Aplica filtro em cada posição da imagem.\n",
        "  for row in range(num_rows):\n",
        "    for col in range(num_cols):\n",
        "      r = row*stride\n",
        "      c = col*stride\n",
        "      res[:,row,col] = imgs[:,r:r+size,c:c+size].mean(axis=(1,2))\n",
        "  \n",
        "  return res"
      ],
      "execution_count": null,
      "outputs": []
    },
    {
      "cell_type": "markdown",
      "metadata": {
        "id": "RmzcRYsbY-86"
      },
      "source": [
        "### Função para exibir filtros"
      ]
    },
    {
      "cell_type": "code",
      "metadata": {
        "id": "-Y_EVQFNjCMa"
      },
      "source": [
        "def exibe_filtro(filtro):\n",
        "  plt.figure(figsize=(2, 2))\n",
        "  #plt.imshow(filtro, cmap=plt.cm.gray, norm=id_norm)\n",
        "  plt.imshow(filtro, cmap=plt.cm.gray)\n",
        "  plt.axis('off')\n",
        "  plt.show()"
      ],
      "execution_count": null,
      "outputs": []
    },
    {
      "cell_type": "code",
      "metadata": {
        "id": "VHvz1MNgUyUH"
      },
      "source": [
        "def plot_filtros_imagem(idx_ex, filtros, pool_size, pool_stride):\n",
        "  # Obtém uma matriz contendo apenas a imagem selecionada.\n",
        "  x_res = x_original[idx_ex:idx_ex+1]\n",
        "\n",
        "  # Aplica convolução.\n",
        "  x_conv = imgs_conv_multi(x_res, filtros)\n",
        "\n",
        "  # Aplica pooling.\n",
        "  x_pool = imgs_pool(x_conv, size=pool_size, stride=pool_stride)\n",
        "\n",
        "  # Cria array de imagens para os filtros\n",
        "  _, axsfiltros = plt.subplots(1, len(filtros), figsize=(2*len(filtros), 4), squeeze=False)\n",
        "\n",
        "  # Cria array de imagens para o resultado\n",
        "  _, axsresult = plt.subplots(1, 3, figsize=(2*3, 4), squeeze=False)\n",
        "\n",
        "  # Exibe filtros na primeira linha da imagem.\n",
        "  for idx, filtro in enumerate(filtros):\n",
        "    # axsfiltros[0][idx].imshow(filtro, cmap=plt.cm.gray, norm=id_norm)\n",
        "    axsfiltros[0][idx].imshow(filtro, cmap=plt.cm.gray)\n",
        "    axsfiltros[0][idx].set_title(f\"Filtro {idx}: {filtro.shape}\")\n",
        "    axsfiltros[0][idx].axis('off')\n",
        "\n",
        "  # Exibe imagem.\n",
        "  axsresult[0][0].imshow(x_res[0], cmap=plt.cm.gray)\n",
        "  axsresult[0][0].set_title(f\"Classe: {CLASSES[y_original[idx_ex]]}\")\n",
        "  axsresult[0][0].axis('off')\n",
        "\n",
        "  # Exibe resultado da convolução.\n",
        "  axsresult[0][1].imshow(x_conv[0], cmap=plt.cm.gray)\n",
        "  axsresult[0][1].set_title(f\"Conv: {x_conv[0].shape}\")\n",
        "  axsresult[0][1].axis('off')\n",
        "\n",
        "  # Exibe resultado do pooling.\n",
        "  axsresult[0][2].imshow(x_pool[0], cmap=plt.cm.gray)\n",
        "  axsresult[0][2].set_title(f\"Pooling: {x_pool[0].shape}\")\n",
        "  axsresult[0][2].axis('off')\n",
        "\n",
        "  plt.show()"
      ],
      "execution_count": null,
      "outputs": []
    },
    {
      "cell_type": "markdown",
      "metadata": {
        "id": "JlvIW1srcvE5"
      },
      "source": [
        "### Função para aplicação de convolução e pooling"
      ]
    },
    {
      "cell_type": "code",
      "metadata": {
        "id": "jHesPC-_cxxG"
      },
      "source": [
        "def aplica_convol_pool(x_usado, filtros, sizeusado, strideusado, strideimagens):\n",
        "\n",
        "  # Aplica convolução.\n",
        "  x_conv = imgs_conv_multi(x_usado, filtros, strideimagens)\n",
        "\n",
        "  # Aplica pooling.\n",
        "  x_pool = imgs_pool(x_conv, size=sizeusado, stride=strideusado)\n",
        "\n",
        "  # Volta para o shape com dois axis.\n",
        "  x_res = x_pool.reshape((x_pool.shape[0], -1))\n",
        "\n",
        "  return x_res"
      ],
      "execution_count": null,
      "outputs": []
    },
    {
      "cell_type": "markdown",
      "metadata": {
        "id": "eaQcotkgVIZf"
      },
      "source": [
        "## Filtros criados\n",
        "Foram criados filtros de tamanho 3x3 e tamanho 7x7. O conteúdo dos filtros foi baseado em referências que estão no final do Notebook."
      ]
    },
    {
      "cell_type": "markdown",
      "metadata": {
        "id": "6lsZ6tf_dtfl"
      },
      "source": [
        "### Filtros 3x3"
      ]
    },
    {
      "cell_type": "code",
      "metadata": {
        "id": "KxKD2Bx2CwCL",
        "outputId": "2e3c9dcb-23e4-4184-abb0-e05e18131bd9",
        "colab": {
          "base_uri": "https://localhost:8080/",
          "height": 140
        }
      },
      "source": [
        "# Filtro identidade: Não modifica imagem. Usado somente para comparações\n",
        "\n",
        "f_ident3x3 = np.array([   [  0,  0,  0],\n",
        "                          [  0,  1,  0],\n",
        "                          [  0,  0,  0]])\n",
        "\n",
        "exibe_filtro(f_ident3x3)"
      ],
      "execution_count": null,
      "outputs": [
        {
          "output_type": "display_data",
          "data": {
            "text/plain": [
              "<Figure size 144x144 with 1 Axes>"
            ],
            "image/png": "[encoded data removed]"
          },
          "metadata": {
            "needs_background": "light"
          }
        }
      ]
    },
    {
      "cell_type": "code",
      "metadata": {
        "id": "MJkZsPuIjOOV",
        "outputId": "c50de32d-8078-41dc-81f6-8ec65a7b8fcf",
        "colab": {
          "base_uri": "https://localhost:8080/",
          "height": 140
        }
      },
      "source": [
        "# Filtro sharpen: Aguçamento da imagem\n",
        "\n",
        "f_sharpen = np.array([[  0, -1,  0],\n",
        "                      [ -1,  5, -1],\n",
        "                      [  0, -1,  0]])\n",
        "\n",
        "exibe_filtro(f_sharpen)"
      ],
      "execution_count": null,
      "outputs": [
        {
          "output_type": "display_data",
          "data": {
            "text/plain": [
              "<Figure size 144x144 with 1 Axes>"
            ],
            "image/png": "[encoded data removed]"
          },
          "metadata": {
            "needs_background": "light"
          }
        }
      ]
    },
    {
      "cell_type": "code",
      "metadata": {
        "id": "1cKczHg5jbb2",
        "outputId": "3c28c094-3153-41e1-da9b-4a8b3c1074c1",
        "colab": {
          "base_uri": "https://localhost:8080/",
          "height": 140
        }
      },
      "source": [
        "# Filtro edge: Achar bordas na imagem\n",
        "\n",
        "f_edge = np.array([   [  0,  1,  0],\n",
        "                      [  1, -4,  1],\n",
        "                      [  0,  1,  0]])\n",
        "\n",
        "exibe_filtro(f_edge)"
      ],
      "execution_count": null,
      "outputs": [
        {
          "output_type": "display_data",
          "data": {
            "text/plain": [
              "<Figure size 144x144 with 1 Axes>"
            ],
            "image/png": "[encoded data removed]"
          },
          "metadata": {
            "needs_background": "light"
          }
        }
      ]
    },
    {
      "cell_type": "code",
      "metadata": {
        "id": "CBe-fEsMjrQu",
        "outputId": "6050d456-b98a-457d-ccb0-513652f7d342",
        "colab": {
          "base_uri": "https://localhost:8080/",
          "height": 140
        }
      },
      "source": [
        "# Filtro relevo: Destacar relevo da imagem\n",
        "\n",
        "f_relevo = np.array([ [ -2,  1,  0],\n",
        "                      [ -1,  1,  1],\n",
        "                      [  0,  1,  2]])\n",
        "\n",
        "exibe_filtro(f_relevo)"
      ],
      "execution_count": null,
      "outputs": [
        {
          "output_type": "display_data",
          "data": {
            "text/plain": [
              "<Figure size 144x144 with 1 Axes>"
            ],
            "image/png": "[encoded data removed]"
          },
          "metadata": {
            "needs_background": "light"
          }
        }
      ]
    },
    {
      "cell_type": "code",
      "metadata": {
        "id": "DBfCRZgV-chT",
        "outputId": "4bd961dd-b935-41ba-b317-a27f73b31a9f",
        "colab": {
          "base_uri": "https://localhost:8080/",
          "height": 140
        }
      },
      "source": [
        "# Filtro Sobel horizontal: Detecção de contorno com peso no pixel central\n",
        "\n",
        "f_sobel_h = np.array([  [ -1, -2, -1],\n",
        "                        [  0,  0,  0],\n",
        "                        [  1,  2,  1]])\n",
        "\n",
        "exibe_filtro(f_sobel_h)"
      ],
      "execution_count": null,
      "outputs": [
        {
          "output_type": "display_data",
          "data": {
            "text/plain": [
              "<Figure size 144x144 with 1 Axes>"
            ],
            "image/png": "[encoded data removed]"
          },
          "metadata": {
            "needs_background": "light"
          }
        }
      ]
    },
    {
      "cell_type": "code",
      "metadata": {
        "id": "kx6IxrY5Alxx",
        "outputId": "b3dcc9fd-4c30-49c4-eb1c-1658a90216f1",
        "colab": {
          "base_uri": "https://localhost:8080/",
          "height": 140
        }
      },
      "source": [
        "# Filtro Sobel vertical: Detecção de contorno com peso no pixel central\n",
        "\n",
        "f_sobel_v = np.array([  [ -1,  0,  1],\n",
        "                        [ -2,  0,  2],\n",
        "                        [ -1,  0,  1]])\n",
        "\n",
        "exibe_filtro(f_sobel_v)"
      ],
      "execution_count": null,
      "outputs": [
        {
          "output_type": "display_data",
          "data": {
            "text/plain": [
              "<Figure size 144x144 with 1 Axes>"
            ],
            "image/png": "[encoded data removed]"
          },
          "metadata": {
            "needs_background": "light"
          }
        }
      ]
    },
    {
      "cell_type": "code",
      "metadata": {
        "id": "gt_NJvW1BoD5",
        "outputId": "c1308ff0-e7a4-4eea-e509-c5323ccf044c",
        "colab": {
          "base_uri": "https://localhost:8080/",
          "height": 140
        }
      },
      "source": [
        "# Filtro Prewitt horizontal: Detecção de contorno sem peso no pixel central\n",
        "\n",
        "f_prewitt_h = np.array( [ [ -1, -1, -1],\n",
        "                          [  0,  0,  0],\n",
        "                          [  1,  1,  1]])\n",
        "\n",
        "exibe_filtro(f_prewitt_h)"
      ],
      "execution_count": null,
      "outputs": [
        {
          "output_type": "display_data",
          "data": {
            "text/plain": [
              "<Figure size 144x144 with 1 Axes>"
            ],
            "image/png": "[encoded data removed]"
          },
          "metadata": {
            "needs_background": "light"
          }
        }
      ]
    },
    {
      "cell_type": "code",
      "metadata": {
        "id": "k1GQopaCBpVc",
        "outputId": "1056ece9-05b2-4d15-df57-af482d85daef",
        "colab": {
          "base_uri": "https://localhost:8080/",
          "height": 140
        }
      },
      "source": [
        "# Filtro Prewitt vertical: Detecção de contorno sem peso no pixel central\n",
        "\n",
        "f_prewitt_v = np.array( [ [ -1,  0,  1],\n",
        "                          [ -1,  0,  1],\n",
        "                          [ -1,  0,  1]])\n",
        "\n",
        "exibe_filtro(f_prewitt_v)"
      ],
      "execution_count": null,
      "outputs": [
        {
          "output_type": "display_data",
          "data": {
            "text/plain": [
              "<Figure size 144x144 with 1 Axes>"
            ],
            "image/png": "[encoded data removed]"
          },
          "metadata": {
            "needs_background": "light"
          }
        }
      ]
    },
    {
      "cell_type": "markdown",
      "metadata": {
        "id": "IhvY1sRSePM2"
      },
      "source": [
        "### Filtros 7x7"
      ]
    },
    {
      "cell_type": "code",
      "metadata": {
        "id": "Qagc0GWuFfxK",
        "outputId": "56e69a27-227f-4fd4-ce7b-82a0fabaee01",
        "colab": {
          "base_uri": "https://localhost:8080/",
          "height": 140
        }
      },
      "source": [
        "# Filtro identidade: Não modifica imagem. Usado somente para comparações\n",
        "\n",
        "f_ident7x7 = np.array([ [  0,  0,  0,  0,  0,  0,  0],\n",
        "                        [  0,  0,  0,  0,  0,  0,  0],\n",
        "                        [  0,  0,  0,  0,  0,  0,  0],\n",
        "                        [  0,  0,  0,  1,  0,  0,  0],\n",
        "                        [  0,  0,  0,  0,  0,  0,  0],\n",
        "                        [  0,  0,  0,  0,  0,  0,  0],\n",
        "                        [  0,  0,  0,  0,  0,  0,  0]])\n",
        "\n",
        "exibe_filtro(f_ident7x7)"
      ],
      "execution_count": null,
      "outputs": [
        {
          "output_type": "display_data",
          "data": {
            "text/plain": [
              "<Figure size 144x144 with 1 Axes>"
            ],
            "image/png": "[encoded data removed]"
          },
          "metadata": {
            "needs_background": "light"
          }
        }
      ]
    },
    {
      "cell_type": "code",
      "metadata": {
        "id": "VJ526x5zlfev",
        "outputId": "f74b53f0-b69c-45e8-b817-7f1250085a74",
        "colab": {
          "base_uri": "https://localhost:8080/",
          "height": 140
        }
      },
      "source": [
        "# Filtro Vertical\n",
        "\n",
        "f_vert = np.array([ [-0.1,  0.4,  0.8,  1.,   0.8,  0.4, -0.1],\n",
        "                    [-0.1,  0.4,  0.8,  1.,   0.8,  0.4, -0.1],\n",
        "                    [-0.1,  0.4,  0.8,  1.,   0.8,  0.4, -0.1],\n",
        "                    [-0.1,  0.4,  0.8,  1.,   0.8,  0.4, -0.1],\n",
        "                    [-0.1,  0.4,  0.8,  1.,   0.8,  0.4, -0.1],\n",
        "                    [-0.1,  0.4,  0.8,  1.,   0.8,  0.4, -0.1],\n",
        "                    [-0.1,  0.4,  0.8,  1.,   0.8,  0.4, -0.1]])\n",
        "\n",
        "exibe_filtro(f_vert)"
      ],
      "execution_count": null,
      "outputs": [
        {
          "output_type": "display_data",
          "data": {
            "text/plain": [
              "<Figure size 144x144 with 1 Axes>"
            ],
            "image/png": "[encoded data removed]"
          },
          "metadata": {
            "needs_background": "light"
          }
        }
      ]
    },
    {
      "cell_type": "code",
      "metadata": {
        "id": "kPLxDqgaH4ng",
        "outputId": "14ad130f-f117-45e0-e6b2-72fbee001b1e",
        "colab": {
          "base_uri": "https://localhost:8080/",
          "height": 140
        }
      },
      "source": [
        "# Filtro Horizontal\n",
        "\n",
        "f_hor = np.transpose(f_vert)\n",
        "\n",
        "exibe_filtro(f_hor)"
      ],
      "execution_count": null,
      "outputs": [
        {
          "output_type": "display_data",
          "data": {
            "text/plain": [
              "<Figure size 144x144 with 1 Axes>"
            ],
            "image/png": "[encoded data removed]"
          },
          "metadata": {
            "needs_background": "light"
          }
        }
      ]
    },
    {
      "cell_type": "code",
      "metadata": {
        "id": "MJ5tvkEYlmYe",
        "outputId": "06428efd-8cd1-4afa-9968-fc048a2060de",
        "colab": {
          "base_uri": "https://localhost:8080/",
          "height": 140
        }
      },
      "source": [
        "# Filtro diagonal Noroeste Sudeste\n",
        "\n",
        "f_NW_SE = np.zeros(shape=(7,7))\n",
        "\n",
        "for row in range(f_NW_SE.shape[0]):\n",
        "  for col in range(f_NW_SE.shape[1]):\n",
        "    f_NW_SE[row,col] = 0.9 / abs(row - col) if abs(row - col) > 0 else 1.0\n",
        "\n",
        "exibe_filtro(f_NW_SE)"
      ],
      "execution_count": null,
      "outputs": [
        {
          "output_type": "display_data",
          "data": {
            "text/plain": [
              "<Figure size 144x144 with 1 Axes>"
            ],
            "image/png": "[encoded data removed]"
          },
          "metadata": {
            "needs_background": "light"
          }
        }
      ]
    },
    {
      "cell_type": "code",
      "metadata": {
        "id": "pJuQnlE_IUIo",
        "outputId": "ce9e7ff0-8bbc-4ece-a1a1-6ff4a9e2e68c",
        "colab": {
          "base_uri": "https://localhost:8080/",
          "height": 140
        }
      },
      "source": [
        "# Filtro diagonal Nordeste Sudoeste\n",
        "\n",
        "f_NE_SW = np.zeros(shape=(7,7))\n",
        "\n",
        "for row in range(f_NE_SW.shape[0]):\n",
        "  for colaux in range(f_NE_SW.shape[1]):\n",
        "    col = 7 - colaux - 1\n",
        "    f_NE_SW[row,col] = 0.9 / abs(row - colaux) if abs(row - colaux) > 0 else 1.0\n",
        "\n",
        "exibe_filtro(f_NE_SW)"
      ],
      "execution_count": null,
      "outputs": [
        {
          "output_type": "display_data",
          "data": {
            "text/plain": [
              "<Figure size 144x144 with 1 Axes>"
            ],
            "image/png": "[encoded data removed]"
          },
          "metadata": {
            "needs_background": "light"
          }
        }
      ]
    },
    {
      "cell_type": "code",
      "metadata": {
        "id": "5oMdTqDEedee",
        "outputId": "376f1c68-92aa-4021-af54-774ab36471b7",
        "colab": {
          "base_uri": "https://localhost:8080/",
          "height": 140
        }
      },
      "source": [
        "# Filtro Gaussian blur\n",
        "\n",
        "r = 1/256\n",
        "\n",
        "f_gaussblur = np.array([[0,     0,     0,     0,     0,     0, 0],\n",
        "                        [0,   1/r,   4/r,   6/r,   4/r,   1/r, 0],\n",
        "                        [0,   4/r,  16/r,  24/r,  16/r,   4/r, 0],\n",
        "                        [0,   6/r,  24/r,  36/r,  24/r,   6/r, 0],\n",
        "                        [0,   4/r,  16/r,  24/r,  16/r,   4/r, 0],\n",
        "                        [0,   1/r,   4/r,   6/r,   4/r,   1/r, 0],\n",
        "                        [0,     0,     0,     0,     0,     0, 0]])\n",
        "\n",
        "exibe_filtro(f_gaussblur)"
      ],
      "execution_count": null,
      "outputs": [
        {
          "output_type": "display_data",
          "data": {
            "text/plain": [
              "<Figure size 144x144 with 1 Axes>"
            ],
            "image/png": "[encoded data removed]"
          },
          "metadata": {
            "needs_background": "light"
          }
        }
      ]
    },
    {
      "cell_type": "markdown",
      "metadata": {
        "id": "HE3URiLyEON4"
      },
      "source": [
        "## Visualização dos filtros"
      ]
    },
    {
      "cell_type": "code",
      "metadata": {
        "id": "NM7hur7jityF",
        "outputId": "3f2eeb00-ba32-4543-d48a-9084b02e1da9",
        "colab": {
          "base_uri": "https://localhost:8080/",
          "height": 389,
          "referenced_widgets": [
            "28b91118450e496ea68603ea5dce429e",
            "114fd682984f414daaeea93adb9b419a",
            "8fa77a13936948d5b203091a6221b1f7",
            "a18d6793ddb04fa2abb3cd28bf567ecc",
            "4c5adc7067354cd59668744ba1fd3a36",
            "2dbf50fdd1b34b7989d2399bf8d86b73",
            "3d1ed7e969184c02b079101cc3a80d07",
            "022ed620abbe4d1e8c5dbe25242ae42d",
            "f92aa13668884703b72afb73f2f90504",
            "cce816b87818494a89a320ea0478356c",
            "e2d5f85ae44e4ca8a97e174af2603882",
            "7140116ac4574b39b0a47b83fcba2c47",
            "5a6fc36c22fc4323a337a8c6c9dbd7cf"
          ]
        }
      },
      "source": [
        "filtros_exemplo = [f_gaussblur, f_vert]\n",
        "\n",
        "num_imgs = x_original.shape[0]\n",
        "\n",
        "interact(plot_filtros_imagem, \n",
        "         idx_ex=IntSlider(value=0, min=0, max=num_imgs),\n",
        "         filtros=fixed(filtros_exemplo),\n",
        "         pool_size=IntSlider(value=6, min=1, max=32), \n",
        "         pool_stride=IntSlider(value=3, min=1, max=16))"
      ],
      "execution_count": null,
      "outputs": [
        {
          "output_type": "display_data",
          "data": {
            "text/plain": [
              "interactive(children=(IntSlider(value=0, description='idx_ex', max=2000), IntSlider(value=6, description='pool…"
            ],
            "application/vnd.jupyter.widget-view+json": {
              "version_major": 2,
              "version_minor": 0,
              "model_id": "28b91118450e496ea68603ea5dce429e"
            }
          },
          "metadata": {}
        },
        {
          "output_type": "execute_result",
          "data": {
            "text/plain": [
              "<function __main__.plot_filtros_imagem>"
            ]
          },
          "metadata": {},
          "execution_count": 58
        }
      ]
    },
    {
      "cell_type": "markdown",
      "metadata": {
        "id": "aQvT3HLdCYKM"
      },
      "source": [
        "## Regressão logística usando os atributos baseados em filtros\n",
        "\n",
        "* Usaremos as funções abaixo:"
      ]
    },
    {
      "cell_type": "code",
      "metadata": {
        "id": "03YiS5njEKNf"
      },
      "source": [
        "def aplica_reg_filtros(filtros, size_conv, stride_conv, stride_imagem, grau_poly):\n",
        "  x_res = aplica_convol_pool(x_original, filtros, size_conv, stride_conv, stride_imagem)\n",
        "  return regressaoLogisticaArray(x_res, y_original, grau_poly)"
      ],
      "execution_count": null,
      "outputs": []
    },
    {
      "cell_type": "code",
      "metadata": {
        "id": "e9yHsSKPJ30P"
      },
      "source": [
        "def testafiltros(filtros, minsize, maxsize, minstride, maxstride):\n",
        "  acuracias = []\n",
        "  valores = []\n",
        "\n",
        "  for i in range(maxsize - minsize + 1):\n",
        "    for j in range(maxstride - minstride + 1):\n",
        "      size = i + minsize\n",
        "      stride = j + minstride\n",
        "      print(\"Size: \" + str(size) + \", Stride: \" + str(stride), end = \", \")\n",
        "\n",
        "      acuracias.append(aplica_reg_filtros(filtros, size, stride, 1, 2))\n",
        "      valores.append((size, stride))\n",
        "\n",
        "  aux = acuracias.index(max(acuracias))\n",
        "  string = \"\\nMaior valor: \"\n",
        "  string += str(acuracias[aux])\n",
        "  string += \", Size: \"\n",
        "  string += str(valores[aux][0])\n",
        "  string += \", Stride: \"\n",
        "  string += str(valores[aux][1])\n",
        "\n",
        "  print(string)"
      ],
      "execution_count": null,
      "outputs": []
    },
    {
      "cell_type": "markdown",
      "metadata": {
        "id": "rgMzc9yaDJhb"
      },
      "source": [
        "### 1. Somente filtro identidade 3x3"
      ]
    },
    {
      "cell_type": "code",
      "metadata": {
        "id": "Sq2y2Xojn_TY",
        "outputId": "9c157bf5-41b9-479b-c2a2-fdcb19e4a4d0",
        "colab": {
          "base_uri": "https://localhost:8080/"
        }
      },
      "source": [
        "filtros = []\n",
        "filtros.append(f_ident3x3)\n",
        "\n",
        "testafiltros(filtros, 3, 7, 3, 6)"
      ],
      "execution_count": null,
      "outputs": [
        {
          "output_type": "stream",
          "name": "stdout",
          "text": [
            "Size: 3, Stride: 3, Acurácia: 0.2775\n",
            "Size: 3, Stride: 4, Acurácia: 0.32\n",
            "Size: 3, Stride: 5, Acurácia: 0.2875\n",
            "Size: 3, Stride: 6, Acurácia: 0.27\n",
            "Size: 4, Stride: 3, Acurácia: 0.29\n",
            "Size: 4, Stride: 4, Acurácia: 0.2975\n",
            "Size: 4, Stride: 5, Acurácia: 0.2825\n",
            "Size: 4, Stride: 6, Acurácia: 0.2975\n",
            "Size: 5, Stride: 3, Acurácia: 0.2925\n",
            "Size: 5, Stride: 4, Acurácia: 0.29\n",
            "Size: 5, Stride: 5, Acurácia: 0.2975\n",
            "Size: 5, Stride: 6, Acurácia: 0.315\n",
            "Size: 6, Stride: 3, Acurácia: 0.305\n",
            "Size: 6, Stride: 4, Acurácia: 0.29\n",
            "Size: 6, Stride: 5, Acurácia: 0.2975\n",
            "Size: 6, Stride: 6, Acurácia: 0.3\n",
            "Size: 7, Stride: 3, Acurácia: 0.315\n",
            "Size: 7, Stride: 4, Acurácia: 0.31\n",
            "Size: 7, Stride: 5, Acurácia: 0.3\n",
            "Size: 7, Stride: 6, Acurácia: 0.31\n",
            "\n",
            "Maior valor: 0.32, Size: 3, Stride: 4\n"
          ]
        }
      ]
    },
    {
      "cell_type": "markdown",
      "metadata": {
        "id": "3IUK1629JYHr"
      },
      "source": [
        "### 2. Somente filtro identidade 7x7"
      ]
    },
    {
      "cell_type": "code",
      "metadata": {
        "id": "rvE2Lk6ZJimY",
        "colab": {
          "base_uri": "https://localhost:8080/"
        },
        "outputId": "28440519-94f4-4215-f083-9d92da361977"
      },
      "source": [
        "filtros = []\n",
        "filtros.append(f_ident7x7)\n",
        "\n",
        "testafiltros(filtros, 3, 7, 3, 6)"
      ],
      "execution_count": null,
      "outputs": [
        {
          "output_type": "stream",
          "name": "stdout",
          "text": [
            "Size: 3, Stride: 3, Acurácia: 0.295\n",
            "Size: 3, Stride: 4, Acurácia: 0.285\n",
            "Size: 3, Stride: 5, Acurácia: 0.2975\n",
            "Size: 3, Stride: 6, Acurácia: 0.27\n",
            "Size: 4, Stride: 3, Acurácia: 0.2975\n",
            "Size: 4, Stride: 4, Acurácia: 0.3075\n",
            "Size: 4, Stride: 5, Acurácia: 0.325\n",
            "Size: 4, Stride: 6, Acurácia: 0.2975\n",
            "Size: 5, Stride: 3, Acurácia: 0.3025\n",
            "Size: 5, Stride: 4, Acurácia: 0.3\n",
            "Size: 5, Stride: 5, Acurácia: 0.2925\n",
            "Size: 5, Stride: 6, Acurácia: 0.3025\n",
            "Size: 6, Stride: 3, Acurácia: 0.2925\n",
            "Size: 6, Stride: 4, Acurácia: 0.2925\n",
            "Size: 6, Stride: 5, Acurácia: 0.325\n",
            "Size: 6, Stride: 6, Acurácia: 0.295\n",
            "Size: 7, Stride: 3, Acurácia: 0.2825\n",
            "Size: 7, Stride: 4, Acurácia: 0.2925\n",
            "Size: 7, Stride: 5, Acurácia: 0.285\n",
            "Size: 7, Stride: 6, Acurácia: 0.2875\n",
            "\n",
            "Maior valor: 0.325, Size: 4, Stride: 5\n"
          ]
        }
      ]
    },
    {
      "cell_type": "markdown",
      "metadata": {
        "id": "r1UIucNyNt33"
      },
      "source": [
        "### 3. Todos filtros 3x3, menos identidade"
      ]
    },
    {
      "cell_type": "code",
      "metadata": {
        "id": "G2mLbCBqNyi8",
        "colab": {
          "base_uri": "https://localhost:8080/"
        },
        "outputId": "5978d5ba-72be-434b-c98c-af9587e4da88"
      },
      "source": [
        "filtros = []\n",
        "filtros.append(f_sharpen)\n",
        "filtros.append(f_edge)\n",
        "filtros.append(f_relevo)\n",
        "filtros.append(f_sobel_h)\n",
        "filtros.append(f_sobel_v)\n",
        "filtros.append(f_prewitt_h)\n",
        "filtros.append(f_prewitt_v)\n",
        "\n",
        "testafiltros(filtros, 3, 7, 3, 6)"
      ],
      "execution_count": null,
      "outputs": [
        {
          "output_type": "stream",
          "name": "stdout",
          "text": [
            "Size: 3, Stride: 3, Acurácia: 0.215\n",
            "Size: 3, Stride: 4, Acurácia: 0.24\n",
            "Size: 3, Stride: 5, Acurácia: 0.2475\n",
            "Size: 3, Stride: 6, Acurácia: 0.255\n",
            "Size: 4, Stride: 3, Acurácia: 0.245\n",
            "Size: 4, Stride: 4, Acurácia: 0.2725\n",
            "Size: 4, Stride: 5, Acurácia: 0.255\n",
            "Size: 4, Stride: 6, Acurácia: 0.265\n",
            "Size: 5, Stride: 3, Acurácia: 0.27\n",
            "Size: 5, Stride: 4, Acurácia: 0.2675\n",
            "Size: 5, Stride: 5, Acurácia: 0.27\n",
            "Size: 5, Stride: 6, Acurácia: 0.3075\n",
            "Size: 6, Stride: 3, Acurácia: 0.275\n",
            "Size: 6, Stride: 4, Acurácia: 0.315\n",
            "Size: 6, Stride: 5, Acurácia: 0.2825\n",
            "Size: 6, Stride: 6, Acurácia: 0.3075\n",
            "Size: 7, Stride: 3, Acurácia: 0.3025\n",
            "Size: 7, Stride: 4, Acurácia: 0.2825\n",
            "Size: 7, Stride: 5, Acurácia: 0.2875\n",
            "Size: 7, Stride: 6, Acurácia: 0.2525\n",
            "\n",
            "Maior valor: 0.315, Size: 6, Stride: 4\n"
          ]
        }
      ]
    },
    {
      "cell_type": "markdown",
      "metadata": {
        "id": "7CUAqqJyOoWT"
      },
      "source": [
        "### 4. Todos filtros 3x3, menos identidade, Prewitt e Edge"
      ]
    },
    {
      "cell_type": "code",
      "metadata": {
        "id": "kGyl0XfTOr0e",
        "outputId": "5fa3ffed-67e4-44f6-be43-aac9cdfc9570",
        "colab": {
          "base_uri": "https://localhost:8080/"
        }
      },
      "source": [
        "filtros = []\n",
        "filtros.append(f_sharpen)\n",
        "filtros.append(f_relevo)\n",
        "filtros.append(f_sobel_h)\n",
        "filtros.append(f_sobel_v)\n",
        "\n",
        "testafiltros(filtros, 3, 7, 3, 6)"
      ],
      "execution_count": null,
      "outputs": [
        {
          "output_type": "stream",
          "name": "stdout",
          "text": [
            "Size: 3, Stride: 3, Acurácia: 0.215\n",
            "Size: 3, Stride: 4, Acurácia: 0.28\n",
            "Size: 3, Stride: 5, Acurácia: 0.2425\n",
            "Size: 3, Stride: 6, Acurácia: 0.2975\n",
            "Size: 4, Stride: 3, Acurácia: 0.265\n",
            "Size: 4, Stride: 4, Acurácia: 0.305\n",
            "Size: 4, Stride: 5, Acurácia: 0.2725\n",
            "Size: 4, Stride: 6, Acurácia: 0.2975\n",
            "Size: 5, Stride: 3, Acurácia: 0.28\n",
            "Size: 5, Stride: 4, Acurácia: 0.2825\n",
            "Size: 5, Stride: 5, Acurácia: 0.2825\n",
            "Size: 5, Stride: 6, Acurácia: 0.34\n",
            "Size: 6, Stride: 3, Acurácia: 0.2975\n",
            "Size: 6, Stride: 4, Acurácia: 0.32\n",
            "Size: 6, Stride: 5, Acurácia: 0.3\n",
            "Size: 6, Stride: 6, Acurácia: 0.3\n",
            "Size: 7, Stride: 3, Acurácia: 0.31\n",
            "Size: 7, Stride: 4, Acurácia: 0.2775\n",
            "Size: 7, Stride: 5, Acurácia: 0.3275\n",
            "Size: 7, Stride: 6, Acurácia: 0.26\n",
            "\n",
            "Maior valor: 0.34, Size: 5, Stride: 6\n"
          ]
        }
      ]
    },
    {
      "cell_type": "markdown",
      "metadata": {
        "id": "WKUk8WxuQEVY"
      },
      "source": [
        "### 5. Todos filtros 7x7, menos identidade"
      ]
    },
    {
      "cell_type": "code",
      "metadata": {
        "id": "xVDtEkVNQL5E",
        "outputId": "12bb904f-1ca5-4bb5-955b-e961b247c9b4",
        "colab": {
          "base_uri": "https://localhost:8080/"
        }
      },
      "source": [
        "filtros = []\n",
        "filtros.append(f_gaussblur)\n",
        "filtros.append(f_hor)\n",
        "filtros.append(f_vert)\n",
        "filtros.append(f_NE_SW)\n",
        "filtros.append(f_NW_SE)\n",
        "\n",
        "testafiltros(filtros, 3, 7, 3, 6)"
      ],
      "execution_count": null,
      "outputs": [
        {
          "output_type": "stream",
          "name": "stdout",
          "text": [
            "Size: 3, Stride: 3, Acurácia: 0.3075\n",
            "Size: 3, Stride: 4, Acurácia: 0.3025\n",
            "Size: 3, Stride: 5, Acurácia: 0.3025\n",
            "Size: 3, Stride: 6, Acurácia: 0.3125\n",
            "Size: 4, Stride: 3, Acurácia: 0.3025\n",
            "Size: 4, Stride: 4, Acurácia: 0.3225\n",
            "Size: 4, Stride: 5, Acurácia: 0.3075\n",
            "Size: 4, Stride: 6, Acurácia: 0.3125\n",
            "Size: 5, Stride: 3, Acurácia: 0.3075\n",
            "Size: 5, Stride: 4, Acurácia: 0.31\n",
            "Size: 5, Stride: 5, Acurácia: 0.305\n",
            "Size: 5, Stride: 6, Acurácia: 0.305\n",
            "Size: 6, Stride: 3, Acurácia: 0.3125\n",
            "Size: 6, Stride: 4, Acurácia: 0.275\n",
            "Size: 6, Stride: 5, Acurácia: 0.325\n",
            "Size: 6, Stride: 6, Acurácia: 0.29\n",
            "Size: 7, Stride: 3, Acurácia: 0.2975\n",
            "Size: 7, Stride: 4, Acurácia: 0.3075\n",
            "Size: 7, Stride: 5, Acurácia: 0.2875\n",
            "Size: 7, Stride: 6, Acurácia: 0.2925\n",
            "\n",
            "Maior valor: 0.325, Size: 6, Stride: 5\n"
          ]
        }
      ]
    },
    {
      "cell_type": "markdown",
      "metadata": {
        "id": "vfpy9zVwRN70"
      },
      "source": [
        "### 6. Todos filtros 7x7, menos identidade e GaussBlur"
      ]
    },
    {
      "cell_type": "code",
      "metadata": {
        "id": "EdjWrxskRO1r",
        "outputId": "a270fcca-75d8-4145-954e-b1907625e62d",
        "colab": {
          "base_uri": "https://localhost:8080/"
        }
      },
      "source": [
        "filtros = []\n",
        "filtros.append(f_hor)\n",
        "filtros.append(f_vert)\n",
        "filtros.append(f_NE_SW)\n",
        "filtros.append(f_NW_SE)\n",
        "\n",
        "testafiltros(filtros, 3, 7, 3, 6)"
      ],
      "execution_count": null,
      "outputs": [
        {
          "output_type": "stream",
          "name": "stdout",
          "text": [
            "Size: 3, Stride: 3, Acurácia: 0.305\n",
            "Size: 3, Stride: 4, Acurácia: 0.3025\n",
            "Size: 3, Stride: 5, Acurácia: 0.295\n",
            "Size: 3, Stride: 6, Acurácia: 0.3225\n",
            "Size: 4, Stride: 3, Acurácia: 0.2975\n",
            "Size: 4, Stride: 4, Acurácia: 0.3025\n",
            "Size: 4, Stride: 5, Acurácia: 0.3125\n",
            "Size: 4, Stride: 6, Acurácia: 0.3075\n",
            "Size: 5, Stride: 3, Acurácia: 0.2925\n",
            "Size: 5, Stride: 4, Acurácia: 0.2975\n",
            "Size: 5, Stride: 5, Acurácia: 0.31\n",
            "Size: 5, Stride: 6, Acurácia: 0.285\n",
            "Size: 6, Stride: 3, Acurácia: 0.3175\n",
            "Size: 6, Stride: 4, Acurácia: 0.3\n",
            "Size: 6, Stride: 5, Acurácia: 0.305\n",
            "Size: 6, Stride: 6, Acurácia: 0.2925\n",
            "Size: 7, Stride: 3, Acurácia: 0.3\n",
            "Size: 7, Stride: 4, Acurácia: 0.3075\n",
            "Size: 7, Stride: 5, Acurácia: 0.275\n",
            "Size: 7, Stride: 6, Acurácia: 0.3025\n",
            "\n",
            "Maior valor: 0.3225, Size: 3, Stride: 6\n"
          ]
        }
      ]
    },
    {
      "cell_type": "markdown",
      "metadata": {
        "id": "9Jxcu_0WQdIu"
      },
      "source": [
        "### 7. Somente GaussBlur"
      ]
    },
    {
      "cell_type": "code",
      "metadata": {
        "id": "0HfFgrMlQfMi",
        "outputId": "f7d539df-2246-47a4-8bff-6438b3279b69",
        "colab": {
          "base_uri": "https://localhost:8080/"
        }
      },
      "source": [
        "filtros = []\n",
        "filtros.append(f_gaussblur)\n",
        "\n",
        "testafiltros(filtros, 3, 7, 3, 6)"
      ],
      "execution_count": null,
      "outputs": [
        {
          "output_type": "stream",
          "name": "stdout",
          "text": [
            "Size: 3, Stride: 3, Acurácia: 0.3025\n",
            "Size: 3, Stride: 4, Acurácia: 0.2925\n",
            "Size: 3, Stride: 5, Acurácia: 0.315\n",
            "Size: 3, Stride: 6, Acurácia: 0.3\n",
            "Size: 4, Stride: 3, Acurácia: 0.3\n",
            "Size: 4, Stride: 4, Acurácia: 0.29\n",
            "Size: 4, Stride: 5, Acurácia: 0.2975\n",
            "Size: 4, Stride: 6, Acurácia: 0.3\n",
            "Size: 5, Stride: 3, Acurácia: 0.305\n",
            "Size: 5, Stride: 4, Acurácia: 0.3225\n",
            "Size: 5, Stride: 5, Acurácia: 0.3\n",
            "Size: 5, Stride: 6, Acurácia: 0.31\n",
            "Size: 6, Stride: 3, Acurácia: 0.3125\n",
            "Size: 6, Stride: 4, Acurácia: 0.28\n",
            "Size: 6, Stride: 5, Acurácia: 0.3175\n",
            "Size: 6, Stride: 6, Acurácia: 0.3075\n",
            "Size: 7, Stride: 3, Acurácia: 0.2925\n",
            "Size: 7, Stride: 4, Acurácia: 0.31\n",
            "Size: 7, Stride: 5, Acurácia: 0.27\n",
            "Size: 7, Stride: 6, Acurácia: 0.2925\n",
            "\n",
            "Maior valor: 0.3225, Size: 5, Stride: 4\n"
          ]
        }
      ]
    },
    {
      "cell_type": "markdown",
      "metadata": {
        "id": "GhOIXB7jRoqC"
      },
      "source": [
        "### 8. Gaussblur, Vertical e NW_SE"
      ]
    },
    {
      "cell_type": "code",
      "metadata": {
        "id": "CqKI0pgnRoy3",
        "outputId": "2bd15f4a-4fac-4efb-d990-ab2241af6e95",
        "colab": {
          "base_uri": "https://localhost:8080/"
        }
      },
      "source": [
        "filtros = []\n",
        "filtros.append(f_gaussblur)\n",
        "filtros.append(f_vert)\n",
        "filtros.append(f_NW_SE)\n",
        "\n",
        "testafiltros(filtros, 3, 7, 3, 6)"
      ],
      "execution_count": null,
      "outputs": [
        {
          "output_type": "stream",
          "name": "stdout",
          "text": [
            "Size: 3, Stride: 3, Acurácia: 0.305\n",
            "Size: 3, Stride: 4, Acurácia: 0.2825\n",
            "Size: 3, Stride: 5, Acurácia: 0.3\n",
            "Size: 3, Stride: 6, Acurácia: 0.31\n",
            "Size: 4, Stride: 3, Acurácia: 0.295\n",
            "Size: 4, Stride: 4, Acurácia: 0.3025\n",
            "Size: 4, Stride: 5, Acurácia: 0.3\n",
            "Size: 4, Stride: 6, Acurácia: 0.3125\n",
            "Size: 5, Stride: 3, Acurácia: 0.3025\n",
            "Size: 5, Stride: 4, Acurácia: 0.32\n",
            "Size: 5, Stride: 5, Acurácia: 0.3\n",
            "Size: 5, Stride: 6, Acurácia: 0.305\n",
            "Size: 6, Stride: 3, Acurácia: 0.3275\n",
            "Size: 6, Stride: 4, Acurácia: 0.3\n",
            "Size: 6, Stride: 5, Acurácia: 0.3175\n",
            "Size: 6, Stride: 6, Acurácia: 0.29\n",
            "Size: 7, Stride: 3, Acurácia: 0.2875\n",
            "Size: 7, Stride: 4, Acurácia: 0.305\n",
            "Size: 7, Stride: 5, Acurácia: 0.28\n",
            "Size: 7, Stride: 6, Acurácia: 0.2875\n",
            "\n",
            "Maior valor: 0.3275, Size: 6, Stride: 3\n"
          ]
        }
      ]
    },
    {
      "cell_type": "markdown",
      "metadata": {
        "id": "Vc07aIYjSgeD"
      },
      "source": [
        "### 9. Horizontal e Vertical"
      ]
    },
    {
      "cell_type": "code",
      "metadata": {
        "id": "_YBE3fjrSgmx",
        "outputId": "0cc84512-863c-4ebe-f273-5583dad2f59a",
        "colab": {
          "base_uri": "https://localhost:8080/"
        }
      },
      "source": [
        "filtros = []\n",
        "filtros.append(f_hor)\n",
        "filtros.append(f_vert)\n",
        "\n",
        "testafiltros(filtros, 3, 7, 3, 6)"
      ],
      "execution_count": null,
      "outputs": [
        {
          "output_type": "stream",
          "name": "stdout",
          "text": [
            "Size: 3, Stride: 3, Acurácia: 0.32\n",
            "Size: 3, Stride: 4, Acurácia: 0.305\n",
            "Size: 3, Stride: 5, Acurácia: 0.31\n",
            "Size: 3, Stride: 6, Acurácia: 0.33\n",
            "Size: 4, Stride: 3, Acurácia: 0.3175\n",
            "Size: 4, Stride: 4, Acurácia: 0.305\n",
            "Size: 4, Stride: 5, Acurácia: 0.3125\n",
            "Size: 4, Stride: 6, Acurácia: 0.3025\n",
            "Size: 5, Stride: 3, Acurácia: 0.28\n",
            "Size: 5, Stride: 4, Acurácia: 0.31\n",
            "Size: 5, Stride: 5, Acurácia: 0.3025\n",
            "Size: 5, Stride: 6, Acurácia: 0.2775\n",
            "Size: 6, Stride: 3, Acurácia: 0.31\n",
            "Size: 6, Stride: 4, Acurácia: 0.29\n",
            "Size: 6, Stride: 5, Acurácia: 0.3025\n",
            "Size: 6, Stride: 6, Acurácia: 0.275\n",
            "Size: 7, Stride: 3, Acurácia: 0.3125\n",
            "Size: 7, Stride: 4, Acurácia: 0.295\n",
            "Size: 7, Stride: 5, Acurácia: 0.28\n",
            "Size: 7, Stride: 6, Acurácia: 0.3075\n",
            "\n",
            "Maior valor: 0.33, Size: 3, Stride: 6\n"
          ]
        }
      ]
    },
    {
      "cell_type": "markdown",
      "metadata": {
        "id": "T-dsCTuKT6bj"
      },
      "source": [
        "### 10. NW_SE e NE_SW"
      ]
    },
    {
      "cell_type": "code",
      "metadata": {
        "id": "AXl2q3-vT6kY",
        "outputId": "4c1723f5-ceff-43d3-ceb6-d6559181baf7",
        "colab": {
          "base_uri": "https://localhost:8080/"
        }
      },
      "source": [
        "filtros = []\n",
        "filtros.append(f_NE_SW)\n",
        "filtros.append(f_NW_SE)\n",
        "\n",
        "testafiltros(filtros, 3, 7, 3, 6)"
      ],
      "execution_count": null,
      "outputs": [
        {
          "output_type": "stream",
          "name": "stdout",
          "text": [
            "Size: 3, Stride: 3, Acurácia: 0.3\n",
            "Size: 3, Stride: 4, Acurácia: 0.3175\n",
            "Size: 3, Stride: 5, Acurácia: 0.3075\n",
            "Size: 3, Stride: 6, Acurácia: 0.3125\n",
            "Size: 4, Stride: 3, Acurácia: 0.285\n",
            "Size: 4, Stride: 4, Acurácia: 0.29\n",
            "Size: 4, Stride: 5, Acurácia: 0.2925\n",
            "Size: 4, Stride: 6, Acurácia: 0.295\n",
            "Size: 5, Stride: 3, Acurácia: 0.275\n",
            "Size: 5, Stride: 4, Acurácia: 0.28\n",
            "Size: 5, Stride: 5, Acurácia: 0.295\n",
            "Size: 5, Stride: 6, Acurácia: 0.2875\n",
            "Size: 6, Stride: 3, Acurácia: 0.31\n",
            "Size: 6, Stride: 4, Acurácia: 0.3\n",
            "Size: 6, Stride: 5, Acurácia: 0.31\n",
            "Size: 6, Stride: 6, Acurácia: 0.295\n",
            "Size: 7, Stride: 3, Acurácia: 0.305\n",
            "Size: 7, Stride: 4, Acurácia: 0.29\n",
            "Size: 7, Stride: 5, Acurácia: 0.29\n",
            "Size: 7, Stride: 6, Acurácia: 0.2925\n",
            "\n",
            "Maior valor: 0.3175, Size: 3, Stride: 4\n"
          ]
        }
      ]
    },
    {
      "cell_type": "markdown",
      "metadata": {
        "id": "YRdLuMKnh1Or"
      },
      "source": [
        "## Treinamento a partir do modelo mais bem sucedido\n",
        "O maior valor de acurácia foi 0.34, usando os filtros 3x3 Sharpen, Relevo e Sovel (horizontal e vertical), com size = 5 e stride = 6. \\\\\n",
        "\n",
        "Usaremos este modelo para prever o comportamento do dataframe de teste."
      ]
    },
    {
      "cell_type": "markdown",
      "metadata": {
        "id": "ooi5mhwUjo16"
      },
      "source": [
        "* Aplicando os filtros"
      ]
    },
    {
      "cell_type": "code",
      "metadata": {
        "id": "ZTs1psTZh84c",
        "colab": {
          "base_uri": "https://localhost:8080/"
        },
        "outputId": "8bc4c8ef-4c89-4a3a-b0dc-ebc68ace01c8"
      },
      "source": [
        "filtros = []\n",
        "filtros.append(f_sharpen)\n",
        "filtros.append(f_relevo)\n",
        "filtros.append(f_sobel_h)\n",
        "filtros.append(f_sobel_v)\n",
        "\n",
        "x_res = aplica_convol_pool(x_original, filtros, 5, 6, 1)\n",
        "\n",
        "print(x_res.shape)"
      ],
      "execution_count": null,
      "outputs": [
        {
          "output_type": "stream",
          "name": "stdout",
          "text": [
            "(2000, 25)\n"
          ]
        }
      ]
    },
    {
      "cell_type": "markdown",
      "metadata": {
        "id": "SMtO63ehjr8q"
      },
      "source": [
        "* Aplicando Regressão Logística"
      ]
    },
    {
      "cell_type": "code",
      "metadata": {
        "id": "8Zfc04WGjuGK",
        "colab": {
          "base_uri": "https://localhost:8080/"
        },
        "outputId": "23541ec3-3528-40bb-c5bf-cfe1c8100edd"
      },
      "source": [
        "x_usado = x_res\n",
        "y_usado = y_original\n",
        "grau_poly = 2\n",
        "\n",
        "# Normalização de atributos min-max.\n",
        "scaler = MinMaxScaler()\n",
        "\n",
        "# Regressor logístico.\n",
        "clf = LogisticRegression(penalty = \"none\")\n",
        "\n",
        "# Cria o pipeline\n",
        "if grau_poly > 0:\n",
        "  poly = PolynomialFeatures(degree=grau_poly, interaction_only=True)\n",
        "  pipeline = Pipeline([(\"scaler\", scaler),\n",
        "                       (\"poly\", poly),\n",
        "                        (\"clf\", clf)])\n",
        "else:\n",
        "  pipeline = Pipeline([(\"scaler\", scaler),\n",
        "                      (\"clf\", clf)])\n",
        "\n",
        "# Validação hold-out.\n",
        "x_train, x_val, y_train, y_val = train_test_split(x_usado, y_usado, test_size=0.2, random_state=rstateglobal)\n",
        "\n",
        "# Treina modelo.\n",
        "pipeline.fit(x_train, y_train)\n",
        "\n",
        "y_pred = pipeline.predict(x_val)\n",
        "\n",
        "acuracia = accuracy_score(y_val, y_pred)\n",
        "\n",
        "print(\"Acurácia:\", acuracia)"
      ],
      "execution_count": null,
      "outputs": [
        {
          "output_type": "stream",
          "name": "stdout",
          "text": [
            "Acurácia: 0.34\n"
          ]
        }
      ]
    },
    {
      "cell_type": "markdown",
      "metadata": {
        "id": "jexgAHmjkYXW"
      },
      "source": [
        "* Aplicando predição"
      ]
    },
    {
      "cell_type": "code",
      "metadata": {
        "id": "h86ORIoRkW2v",
        "colab": {
          "base_uri": "https://localhost:8080/",
          "height": 300
        },
        "outputId": "54b49518-1367-4270-c968-93f3f7a8a6df"
      },
      "source": [
        "df_test = pd.read_csv(\"https://github.com/eraldoluis/cifar10-datasets/raw/master/cifar10-test.csv.zip\")\n",
        "df_test.head()"
      ],
      "execution_count": null,
      "outputs": [
        {
          "output_type": "execute_result",
          "data": {
            "text/plain": [
              "   p_00_00  p_00_01  p_00_02  p_00_03  p_00_04  p_00_05  p_00_06  p_00_07  \\\n",
              "0    187.0    187.0    187.0    187.0    187.0    187.0    187.0    187.0   \n",
              "1    181.0    179.0    176.0    173.0    170.0    167.0    167.0    168.0   \n",
              "2    183.0    179.0    180.0    184.0    192.0    203.0    209.0    213.0   \n",
              "3    133.0    137.0    131.0    119.0    121.0    118.0    132.0    142.0   \n",
              "4    165.0    157.0    146.0    129.0    140.0    159.0    154.0    150.0   \n",
              "\n",
              "   p_00_08  p_00_09  ...  p_31_22  p_31_23  p_31_24  p_31_25  p_31_26  \\\n",
              "0    187.0    187.0  ...    193.0    193.0    193.0    193.0    192.0   \n",
              "1    168.0    168.0  ...     32.0    101.0    131.0     74.0     67.0   \n",
              "2    215.0    220.0  ...    110.0    110.0    187.0    213.0    220.0   \n",
              "3    143.0    133.0  ...    115.0    146.0    176.0    148.0    143.0   \n",
              "4    170.0    192.0  ...    144.0    126.0    143.0    168.0    149.0   \n",
              "\n",
              "   p_31_27  p_31_28  p_31_29  p_31_30  p_31_31  \n",
              "0    192.0    193.0    192.0    192.0    192.0  \n",
              "1     79.0     39.0     45.0    110.0     97.0  \n",
              "2    232.0    237.0    227.0    223.0    230.0  \n",
              "3    163.0    134.0    138.0    162.0    137.0  \n",
              "4    118.0    114.0    134.0    130.0    122.0  \n",
              "\n",
              "[5 rows x 1024 columns]"
            ],
            "text/html": [
              "\n",
              "  <div id=\"df-76eb94f8-5c6a-4e1a-b3ea-97df5705fb5f\">\n",
              "    <div class=\"colab-df-container\">\n",
              "      <div>\n",
              "<style scoped>\n",
              "    .dataframe tbody tr th:only-of-type {\n",
              "        vertical-align: middle;\n",
              "    }\n",
              "\n",
              "    .dataframe tbody tr th {\n",
              "        vertical-align: top;\n",
              "    }\n",
              "\n",
              "    .dataframe thead th {\n",
              "        text-align: right;\n",
              "    }\n",
              "</style>\n",
              "<table border=\"1\" class=\"dataframe\">\n",
              "  <thead>\n",
              "    <tr style=\"text-align: right;\">\n",
              "      <th></th>\n",
              "      <th>p_00_00</th>\n",
              "      <th>p_00_01</th>\n",
              "      <th>p_00_02</th>\n",
              "      <th>p_00_03</th>\n",
              "      <th>p_00_04</th>\n",
              "      <th>p_00_05</th>\n",
              "      <th>p_00_06</th>\n",
              "      <th>p_00_07</th>\n",
              "      <th>p_00_08</th>\n",
              "      <th>p_00_09</th>\n",
              "      <th>...</th>\n",
              "      <th>p_31_22</th>\n",
              "      <th>p_31_23</th>\n",
              "      <th>p_31_24</th>\n",
              "      <th>p_31_25</th>\n",
              "      <th>p_31_26</th>\n",
              "      <th>p_31_27</th>\n",
              "      <th>p_31_28</th>\n",
              "      <th>p_31_29</th>\n",
              "      <th>p_31_30</th>\n",
              "      <th>p_31_31</th>\n",
              "    </tr>\n",
              "  </thead>\n",
              "  <tbody>\n",
              "    <tr>\n",
              "      <th>0</th>\n",
              "      <td>187.0</td>\n",
              "      <td>187.0</td>\n",
              "      <td>187.0</td>\n",
              "      <td>187.0</td>\n",
              "      <td>187.0</td>\n",
              "      <td>187.0</td>\n",
              "      <td>187.0</td>\n",
              "      <td>187.0</td>\n",
              "      <td>187.0</td>\n",
              "      <td>187.0</td>\n",
              "      <td>...</td>\n",
              "      <td>193.0</td>\n",
              "      <td>193.0</td>\n",
              "      <td>193.0</td>\n",
              "      <td>193.0</td>\n",
              "      <td>192.0</td>\n",
              "      <td>192.0</td>\n",
              "      <td>193.0</td>\n",
              "      <td>192.0</td>\n",
              "      <td>192.0</td>\n",
              "      <td>192.0</td>\n",
              "    </tr>\n",
              "    <tr>\n",
              "      <th>1</th>\n",
              "      <td>181.0</td>\n",
              "      <td>179.0</td>\n",
              "      <td>176.0</td>\n",
              "      <td>173.0</td>\n",
              "      <td>170.0</td>\n",
              "      <td>167.0</td>\n",
              "      <td>167.0</td>\n",
              "      <td>168.0</td>\n",
              "      <td>168.0</td>\n",
              "      <td>168.0</td>\n",
              "      <td>...</td>\n",
              "      <td>32.0</td>\n",
              "      <td>101.0</td>\n",
              "      <td>131.0</td>\n",
              "      <td>74.0</td>\n",
              "      <td>67.0</td>\n",
              "      <td>79.0</td>\n",
              "      <td>39.0</td>\n",
              "      <td>45.0</td>\n",
              "      <td>110.0</td>\n",
              "      <td>97.0</td>\n",
              "    </tr>\n",
              "    <tr>\n",
              "      <th>2</th>\n",
              "      <td>183.0</td>\n",
              "      <td>179.0</td>\n",
              "      <td>180.0</td>\n",
              "      <td>184.0</td>\n",
              "      <td>192.0</td>\n",
              "      <td>203.0</td>\n",
              "      <td>209.0</td>\n",
              "      <td>213.0</td>\n",
              "      <td>215.0</td>\n",
              "      <td>220.0</td>\n",
              "      <td>...</td>\n",
              "      <td>110.0</td>\n",
              "      <td>110.0</td>\n",
              "      <td>187.0</td>\n",
              "      <td>213.0</td>\n",
              "      <td>220.0</td>\n",
              "      <td>232.0</td>\n",
              "      <td>237.0</td>\n",
              "      <td>227.0</td>\n",
              "      <td>223.0</td>\n",
              "      <td>230.0</td>\n",
              "    </tr>\n",
              "    <tr>\n",
              "      <th>3</th>\n",
              "      <td>133.0</td>\n",
              "      <td>137.0</td>\n",
              "      <td>131.0</td>\n",
              "      <td>119.0</td>\n",
              "      <td>121.0</td>\n",
              "      <td>118.0</td>\n",
              "      <td>132.0</td>\n",
              "      <td>142.0</td>\n",
              "      <td>143.0</td>\n",
              "      <td>133.0</td>\n",
              "      <td>...</td>\n",
              "      <td>115.0</td>\n",
              "      <td>146.0</td>\n",
              "      <td>176.0</td>\n",
              "      <td>148.0</td>\n",
              "      <td>143.0</td>\n",
              "      <td>163.0</td>\n",
              "      <td>134.0</td>\n",
              "      <td>138.0</td>\n",
              "      <td>162.0</td>\n",
              "      <td>137.0</td>\n",
              "    </tr>\n",
              "    <tr>\n",
              "      <th>4</th>\n",
              "      <td>165.0</td>\n",
              "      <td>157.0</td>\n",
              "      <td>146.0</td>\n",
              "      <td>129.0</td>\n",
              "      <td>140.0</td>\n",
              "      <td>159.0</td>\n",
              "      <td>154.0</td>\n",
              "      <td>150.0</td>\n",
              "      <td>170.0</td>\n",
              "      <td>192.0</td>\n",
              "      <td>...</td>\n",
              "      <td>144.0</td>\n",
              "      <td>126.0</td>\n",
              "      <td>143.0</td>\n",
              "      <td>168.0</td>\n",
              "      <td>149.0</td>\n",
              "      <td>118.0</td>\n",
              "      <td>114.0</td>\n",
              "      <td>134.0</td>\n",
              "      <td>130.0</td>\n",
              "      <td>122.0</td>\n",
              "    </tr>\n",
              "  </tbody>\n",
              "</table>\n",
              "<p>5 rows × 1024 columns</p>\n",
              "</div>\n",
              "      <button class=\"colab-df-convert\" onclick=\"convertToInteractive('df-76eb94f8-5c6a-4e1a-b3ea-97df5705fb5f')\"\n",
              "              title=\"Convert this dataframe to an interactive table.\"\n",
              "              style=\"display:none;\">\n",
              "        \n",
              "  <svg xmlns=\"http://www.w3.org/2000/svg\" height=\"24px\"viewBox=\"0 0 24 24\"\n",
              "       width=\"24px\">\n",
              "    <path d=\"M0 0h24v24H0V0z\" fill=\"none\"/>\n",
              "    <path d=\"M18.56 5.44l.94 2.06.94-2.06 2.06-.94-2.06-.94-.94-2.06-.94 2.06-2.06.94zm-11 1L8.5 8.5l.94-2.06 2.06-.94-2.06-.94L8.5 2.5l-.94 2.06-2.06.94zm10 10l.94 2.06.94-2.06 2.06-.94-2.06-.94-.94-2.06-.94 2.06-2.06.94z\"/><path d=\"M17.41 7.96l-1.37-1.37c-.4-.4-.92-.59-1.43-.59-.52 0-1.04.2-1.43.59L10.3 9.45l-7.72 7.72c-.78.78-.78 2.05 0 2.83L4 21.41c.39.39.9.59 1.41.59.51 0 1.02-.2 1.41-.59l7.78-7.78 2.81-2.81c.8-.78.8-2.07 0-2.86zM5.41 20L4 18.59l7.72-7.72 1.47 1.35L5.41 20z\"/>\n",
              "  </svg>\n",
              "      </button>\n",
              "      \n",
              "  <style>\n",
              "    .colab-df-container {\n",
              "      display:flex;\n",
              "      flex-wrap:wrap;\n",
              "      gap: 12px;\n",
              "    }\n",
              "\n",
              "    .colab-df-convert {\n",
              "      background-color: #E8F0FE;\n",
              "      border: none;\n",
              "      border-radius: 50%;\n",
              "      cursor: pointer;\n",
              "      display: none;\n",
              "      fill: #1967D2;\n",
              "      height: 32px;\n",
              "      padding: 0 0 0 0;\n",
              "      width: 32px;\n",
              "    }\n",
              "\n",
              "    .colab-df-convert:hover {\n",
              "      background-color: #E2EBFA;\n",
              "      box-shadow: 0px 1px 2px rgba(60, 64, 67, 0.3), 0px 1px 3px 1px rgba(60, 64, 67, 0.15);\n",
              "      fill: #174EA6;\n",
              "    }\n",
              "\n",
              "    [theme=dark] .colab-df-convert {\n",
              "      background-color: #3B4455;\n",
              "      fill: #D2E3FC;\n",
              "    }\n",
              "\n",
              "    [theme=dark] .colab-df-convert:hover {\n",
              "      background-color: #434B5C;\n",
              "      box-shadow: 0px 1px 3px 1px rgba(0, 0, 0, 0.15);\n",
              "      filter: drop-shadow(0px 1px 2px rgba(0, 0, 0, 0.3));\n",
              "      fill: #FFFFFF;\n",
              "    }\n",
              "  </style>\n",
              "\n",
              "      <script>\n",
              "        const buttonEl =\n",
              "          document.querySelector('#df-76eb94f8-5c6a-4e1a-b3ea-97df5705fb5f button.colab-df-convert');\n",
              "        buttonEl.style.display =\n",
              "          google.colab.kernel.accessAllowed ? 'block' : 'none';\n",
              "\n",
              "        async function convertToInteractive(key) {\n",
              "          const element = document.querySelector('#df-76eb94f8-5c6a-4e1a-b3ea-97df5705fb5f');\n",
              "          const dataTable =\n",
              "            await google.colab.kernel.invokeFunction('convertToInteractive',\n",
              "                                                     [key], {});\n",
              "          if (!dataTable) return;\n",
              "\n",
              "          const docLinkHtml = 'Like what you see? Visit the ' +\n",
              "            '<a target=\"_blank\" href=https://colab.research.google.com/notebooks/data_table.ipynb>data table notebook</a>'\n",
              "            + ' to learn more about interactive tables.';\n",
              "          element.innerHTML = '';\n",
              "          dataTable['output_type'] = 'display_data';\n",
              "          await google.colab.output.renderOutput(dataTable, element);\n",
              "          const docLink = document.createElement('div');\n",
              "          docLink.innerHTML = docLinkHtml;\n",
              "          element.appendChild(docLink);\n",
              "        }\n",
              "      </script>\n",
              "    </div>\n",
              "  </div>\n",
              "  "
            ]
          },
          "metadata": {},
          "execution_count": 73
        }
      ]
    },
    {
      "cell_type": "code",
      "metadata": {
        "id": "Ie3jT2ZRllyD",
        "colab": {
          "base_uri": "https://localhost:8080/"
        },
        "outputId": "62434a98-2f08-42ef-a406-2281e072fff2"
      },
      "source": [
        "x_test = np.array(df_test).reshape(-1, 32, 32)\n",
        "print(\"x_test.shape:\", x_test.shape)"
      ],
      "execution_count": null,
      "outputs": [
        {
          "output_type": "stream",
          "name": "stdout",
          "text": [
            "x_test.shape: (2000, 32, 32)\n"
          ]
        }
      ]
    },
    {
      "cell_type": "code",
      "metadata": {
        "id": "KnDhdHLMlopI"
      },
      "source": [
        "filtros = []\n",
        "filtros.append(f_sharpen)\n",
        "filtros.append(f_relevo)\n",
        "filtros.append(f_sobel_h)\n",
        "filtros.append(f_sobel_v)\n",
        "\n",
        "x_res = aplica_convol_pool(x_test, filtros, 5, 6, 1)\n",
        "\n",
        "y_pred = pipeline.predict(x_res)"
      ],
      "execution_count": null,
      "outputs": []
    },
    {
      "cell_type": "markdown",
      "metadata": {
        "id": "6F0XSstOl1s5"
      },
      "source": [
        "* Gerando o arquivo com predições"
      ]
    },
    {
      "cell_type": "code",
      "metadata": {
        "id": "jQ2U5NNEl3f4",
        "colab": {
          "base_uri": "https://localhost:8080/",
          "height": 206
        },
        "outputId": "fa0235ef-15d4-4f51-b3c2-543f8fe5cf56"
      },
      "source": [
        "df_pred = pd.DataFrame(y_pred, columns=[\"label\"])\n",
        "df_pred.to_csv(\"cifar10-test-predicoes-final.csv\", index=False)\n",
        "df_pred.head()"
      ],
      "execution_count": null,
      "outputs": [
        {
          "output_type": "execute_result",
          "data": {
            "text/plain": [
              "   label\n",
              "0      0\n",
              "1      2\n",
              "2      3\n",
              "3      3\n",
              "4      7"
            ],
            "text/html": [
              "\n",
              "  <div id=\"df-8c7c081e-0256-45be-ab8a-84718f10322b\">\n",
              "    <div class=\"colab-df-container\">\n",
              "      <div>\n",
              "<style scoped>\n",
              "    .dataframe tbody tr th:only-of-type {\n",
              "        vertical-align: middle;\n",
              "    }\n",
              "\n",
              "    .dataframe tbody tr th {\n",
              "        vertical-align: top;\n",
              "    }\n",
              "\n",
              "    .dataframe thead th {\n",
              "        text-align: right;\n",
              "    }\n",
              "</style>\n",
              "<table border=\"1\" class=\"dataframe\">\n",
              "  <thead>\n",
              "    <tr style=\"text-align: right;\">\n",
              "      <th></th>\n",
              "      <th>label</th>\n",
              "    </tr>\n",
              "  </thead>\n",
              "  <tbody>\n",
              "    <tr>\n",
              "      <th>0</th>\n",
              "      <td>0</td>\n",
              "    </tr>\n",
              "    <tr>\n",
              "      <th>1</th>\n",
              "      <td>2</td>\n",
              "    </tr>\n",
              "    <tr>\n",
              "      <th>2</th>\n",
              "      <td>3</td>\n",
              "    </tr>\n",
              "    <tr>\n",
              "      <th>3</th>\n",
              "      <td>3</td>\n",
              "    </tr>\n",
              "    <tr>\n",
              "      <th>4</th>\n",
              "      <td>7</td>\n",
              "    </tr>\n",
              "  </tbody>\n",
              "</table>\n",
              "</div>\n",
              "      <button class=\"colab-df-convert\" onclick=\"convertToInteractive('df-8c7c081e-0256-45be-ab8a-84718f10322b')\"\n",
              "              title=\"Convert this dataframe to an interactive table.\"\n",
              "              style=\"display:none;\">\n",
              "        \n",
              "  <svg xmlns=\"http://www.w3.org/2000/svg\" height=\"24px\"viewBox=\"0 0 24 24\"\n",
              "       width=\"24px\">\n",
              "    <path d=\"M0 0h24v24H0V0z\" fill=\"none\"/>\n",
              "    <path d=\"M18.56 5.44l.94 2.06.94-2.06 2.06-.94-2.06-.94-.94-2.06-.94 2.06-2.06.94zm-11 1L8.5 8.5l.94-2.06 2.06-.94-2.06-.94L8.5 2.5l-.94 2.06-2.06.94zm10 10l.94 2.06.94-2.06 2.06-.94-2.06-.94-.94-2.06-.94 2.06-2.06.94z\"/><path d=\"M17.41 7.96l-1.37-1.37c-.4-.4-.92-.59-1.43-.59-.52 0-1.04.2-1.43.59L10.3 9.45l-7.72 7.72c-.78.78-.78 2.05 0 2.83L4 21.41c.39.39.9.59 1.41.59.51 0 1.02-.2 1.41-.59l7.78-7.78 2.81-2.81c.8-.78.8-2.07 0-2.86zM5.41 20L4 18.59l7.72-7.72 1.47 1.35L5.41 20z\"/>\n",
              "  </svg>\n",
              "      </button>\n",
              "      \n",
              "  <style>\n",
              "    .colab-df-container {\n",
              "      display:flex;\n",
              "      flex-wrap:wrap;\n",
              "      gap: 12px;\n",
              "    }\n",
              "\n",
              "    .colab-df-convert {\n",
              "      background-color: #E8F0FE;\n",
              "      border: none;\n",
              "      border-radius: 50%;\n",
              "      cursor: pointer;\n",
              "      display: none;\n",
              "      fill: #1967D2;\n",
              "      height: 32px;\n",
              "      padding: 0 0 0 0;\n",
              "      width: 32px;\n",
              "    }\n",
              "\n",
              "    .colab-df-convert:hover {\n",
              "      background-color: #E2EBFA;\n",
              "      box-shadow: 0px 1px 2px rgba(60, 64, 67, 0.3), 0px 1px 3px 1px rgba(60, 64, 67, 0.15);\n",
              "      fill: #174EA6;\n",
              "    }\n",
              "\n",
              "    [theme=dark] .colab-df-convert {\n",
              "      background-color: #3B4455;\n",
              "      fill: #D2E3FC;\n",
              "    }\n",
              "\n",
              "    [theme=dark] .colab-df-convert:hover {\n",
              "      background-color: #434B5C;\n",
              "      box-shadow: 0px 1px 3px 1px rgba(0, 0, 0, 0.15);\n",
              "      filter: drop-shadow(0px 1px 2px rgba(0, 0, 0, 0.3));\n",
              "      fill: #FFFFFF;\n",
              "    }\n",
              "  </style>\n",
              "\n",
              "      <script>\n",
              "        const buttonEl =\n",
              "          document.querySelector('#df-8c7c081e-0256-45be-ab8a-84718f10322b button.colab-df-convert');\n",
              "        buttonEl.style.display =\n",
              "          google.colab.kernel.accessAllowed ? 'block' : 'none';\n",
              "\n",
              "        async function convertToInteractive(key) {\n",
              "          const element = document.querySelector('#df-8c7c081e-0256-45be-ab8a-84718f10322b');\n",
              "          const dataTable =\n",
              "            await google.colab.kernel.invokeFunction('convertToInteractive',\n",
              "                                                     [key], {});\n",
              "          if (!dataTable) return;\n",
              "\n",
              "          const docLinkHtml = 'Like what you see? Visit the ' +\n",
              "            '<a target=\"_blank\" href=https://colab.research.google.com/notebooks/data_table.ipynb>data table notebook</a>'\n",
              "            + ' to learn more about interactive tables.';\n",
              "          element.innerHTML = '';\n",
              "          dataTable['output_type'] = 'display_data';\n",
              "          await google.colab.output.renderOutput(dataTable, element);\n",
              "          const docLink = document.createElement('div');\n",
              "          docLink.innerHTML = docLinkHtml;\n",
              "          element.appendChild(docLink);\n",
              "        }\n",
              "      </script>\n",
              "    </div>\n",
              "  </div>\n",
              "  "
            ]
          },
          "metadata": {},
          "execution_count": 76
        }
      ]
    },
    {
      "cell_type": "markdown",
      "metadata": {
        "id": "09gTvgoRp4_3"
      },
      "source": [
        "* Às vezes pode ocorrer NetworkError."
      ]
    },
    {
      "cell_type": "code",
      "metadata": {
        "id": "xNi57NRWl5c-",
        "colab": {
          "base_uri": "https://localhost:8080/",
          "height": 17
        },
        "outputId": "e04bc469-7462-4ec9-c2c9-1a91eec2ecef"
      },
      "source": [
        "from google.colab import files\n",
        "files.download(\"cifar10-test-predicoes-final.csv\")"
      ],
      "execution_count": null,
      "outputs": [
        {
          "output_type": "display_data",
          "data": {
            "text/plain": [
              "<IPython.core.display.Javascript object>"
            ],
            "application/javascript": [
              "\n",
              "    async function download(id, filename, size) {\n",
              "      if (!google.colab.kernel.accessAllowed) {\n",
              "        return;\n",
              "      }\n",
              "      const div = document.createElement('div');\n",
              "      const label = document.createElement('label');\n",
              "      label.textContent = `Downloading \"${filename}\": `;\n",
              "      div.appendChild(label);\n",
              "      const progress = document.createElement('progress');\n",
              "      progress.max = size;\n",
              "      div.appendChild(progress);\n",
              "      document.body.appendChild(div);\n",
              "\n",
              "      const buffers = [];\n",
              "      let downloaded = 0;\n",
              "\n",
              "      const channel = await google.colab.kernel.comms.open(id);\n",
              "      // Send a message to notify the kernel that we're ready.\n",
              "      channel.send({})\n",
              "\n",
              "      for await (const message of channel.messages) {\n",
              "        // Send a message to notify the kernel that we're ready.\n",
              "        channel.send({})\n",
              "        if (message.buffers) {\n",
              "          for (const buffer of message.buffers) {\n",
              "            buffers.push(buffer);\n",
              "            downloaded += buffer.byteLength;\n",
              "            progress.value = downloaded;\n",
              "          }\n",
              "        }\n",
              "      }\n",
              "      const blob = new Blob(buffers, {type: 'application/binary'});\n",
              "      const a = document.createElement('a');\n",
              "      a.href = window.URL.createObjectURL(blob);\n",
              "      a.download = filename;\n",
              "      div.appendChild(a);\n",
              "      a.click();\n",
              "      div.remove();\n",
              "    }\n",
              "  "
            ]
          },
          "metadata": {}
        },
        {
          "output_type": "display_data",
          "data": {
            "text/plain": [
              "<IPython.core.display.Javascript object>"
            ],
            "application/javascript": [
              "download(\"download_61a842f2-d037-4e62-a32c-17e5e84f3deb\", \"cifar10-test-predicoes-final.csv\", 4006)"
            ]
          },
          "metadata": {}
        }
      ]
    },
    {
      "cell_type": "markdown",
      "metadata": {
        "id": "RMm3tL4PeKaV"
      },
      "source": [
        "# Resultados\n",
        "\n",
        "O maior valor que obtemos para a acurácia foi o de 0.34, usando os filtros 3x3 Sharpen, Relevo e Sovel (horizontal e vertical), sem atributos polinomiais gerados manualmente (como o quadrado 3x3). \\\\\n",
        "Além disso, observou-se que o método usando os filtros foi mais rápido (e apresentou melhores resultados) que o método gerando os atributos polinomiais."
      ]
    },
    {
      "cell_type": "markdown",
      "metadata": {
        "id": "wwYS-XLDhqmC"
      },
      "source": [
        "# Conclusão\n",
        "\n",
        "Conclui-se que, usando Regressão Logística, os atributos baseados em filtros são os mais adequados para o problema de classificação de imagens. Hipotetiza-se que para obter melhores resultados de acurácia, são necessários outros métodos de Machine Learning diferentes (como o Random Forest Classifier)."
      ]
    },
    {
      "cell_type": "markdown",
      "metadata": {
        "id": "uGUb793JVxRR"
      },
      "source": [
        "# Referências\n",
        "* https://pt.qwe.wiki/wiki/Kernel_(image_processing)\n",
        "* https://docs.gimp.org/2.8/pt_BR/plug-in-convmatrix.html\n",
        "* www.facom.ufu.br/~backes/gsi058/Aula06-FiltragemEspacial.pdf\n",
        "* http://computacaografica.ic.uff.br/transparenciasvol2cap5.pdf"
      ]
    }
  ]
}